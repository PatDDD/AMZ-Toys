{
 "cells": [
  {
   "cell_type": "markdown",
   "metadata": {},
   "source": [
    "# AMZ Toys Project Part 1 - Data Preparation"
   ]
  },
  {
   "cell_type": "code",
   "execution_count": 1,
   "metadata": {},
   "outputs": [],
   "source": [
    "import pandas as pd\n",
    "import numpy as np\n",
    "import seaborn as sns\n",
    "import matplotlib.pyplot as plt\n",
    "import re"
   ]
  },
  {
   "cell_type": "code",
   "execution_count": 2,
   "metadata": {},
   "outputs": [],
   "source": [
    "pd.options.mode.chained_assignment = None"
   ]
  },
  {
   "cell_type": "markdown",
   "metadata": {},
   "source": [
    "### Import Data and pre cleaning"
   ]
  },
  {
   "cell_type": "code",
   "execution_count": 3,
   "metadata": {},
   "outputs": [],
   "source": [
    "toys_all = pd.read_csv(\"C:/Users/dukun/Course/Intro to R/CS1/Toys_Amazon.csv\", encoding=\"utf-8\")"
   ]
  },
  {
   "cell_type": "code",
   "execution_count": 4,
   "metadata": {},
   "outputs": [],
   "source": [
    "def pre_clean(df):\n",
    "    toys_all = df\n",
    "    #drop any rows if price column is null\n",
    "    toys_all.dropna(how='any', subset=['price'], inplace=True)\n",
    "    \n",
    "    #split the `number_available_in_stock` column into two columns\n",
    "    toys_all[['quan_available','condition']] = toys_all.number_available_in_stock.str.split(expand=True)\n",
    "    \n",
    "    #remove the dollar sign\n",
    "    toys_all['price'] = toys_all['price'].apply(lambda x: re.sub(\"£\", \"\",str(x)))\n",
    "    \n",
    "    #remove some unnecessary words in the avg rating column\n",
    "    toys_all['average_review_rating'] = toys_all['average_review_rating'].apply(lambda x: re.sub(\" out of 5 stars\", \"\", str(x)))\n",
    "    \n",
    "    #change data type\n",
    "    toys_all['average_review_rating'] = toys_all['average_review_rating'].apply(float)\n",
    "    \n",
    "    toys_all['average_review_rating'].fillna((toys_all['average_review_rating'].mean()), inplace=True)\n",
    "    \n",
    "    return toys_all"
   ]
  },
  {
   "cell_type": "code",
   "execution_count": 5,
   "metadata": {},
   "outputs": [],
   "source": [
    "toys_all = pre_clean(toys_all)"
   ]
  },
  {
   "cell_type": "code",
   "execution_count": 6,
   "metadata": {},
   "outputs": [
    {
     "data": {
      "text/html": [
       "<div>\n",
       "<style scoped>\n",
       "    .dataframe tbody tr th:only-of-type {\n",
       "        vertical-align: middle;\n",
       "    }\n",
       "\n",
       "    .dataframe tbody tr th {\n",
       "        vertical-align: top;\n",
       "    }\n",
       "\n",
       "    .dataframe thead th {\n",
       "        text-align: right;\n",
       "    }\n",
       "</style>\n",
       "<table border=\"1\" class=\"dataframe\">\n",
       "  <thead>\n",
       "    <tr style=\"text-align: right;\">\n",
       "      <th></th>\n",
       "      <th>uniq_id</th>\n",
       "      <th>product_name</th>\n",
       "      <th>manufacturer</th>\n",
       "      <th>price</th>\n",
       "      <th>number_available_in_stock</th>\n",
       "      <th>number_of_reviews</th>\n",
       "      <th>number_of_answered_questions</th>\n",
       "      <th>average_review_rating</th>\n",
       "      <th>amazon_category_and_sub_category</th>\n",
       "      <th>customers_who_bought_this_item_also_bought</th>\n",
       "      <th>description</th>\n",
       "      <th>product_information</th>\n",
       "      <th>product_description</th>\n",
       "      <th>items_customers_buy_after_viewing_this_item</th>\n",
       "      <th>customer_questions_and_answers</th>\n",
       "      <th>customer_reviews</th>\n",
       "      <th>sellers</th>\n",
       "      <th>quan_available</th>\n",
       "      <th>condition</th>\n",
       "    </tr>\n",
       "  </thead>\n",
       "  <tbody>\n",
       "    <tr>\n",
       "      <th>0</th>\n",
       "      <td>eac7efa5dbd3d667f26eb3d3ab504464</td>\n",
       "      <td>Hornby 2014 Catalogue</td>\n",
       "      <td>Hornby</td>\n",
       "      <td>3.42</td>\n",
       "      <td>5 new</td>\n",
       "      <td>15</td>\n",
       "      <td>1.0</td>\n",
       "      <td>4.9</td>\n",
       "      <td>Hobbies &gt; Model Trains &amp; Railway Sets &gt; Rail V...</td>\n",
       "      <td>http://www.amazon.co.uk/Hornby-R8150-Catalogue...</td>\n",
       "      <td>Product Description Hornby 2014 Catalogue Box ...</td>\n",
       "      <td>Technical Details Item Weight640 g Product Dim...</td>\n",
       "      <td>Product Description Hornby 2014 Catalogue Box ...</td>\n",
       "      <td>http://www.amazon.co.uk/Hornby-R8150-Catalogue...</td>\n",
       "      <td>Does this catalogue detail all the previous Ho...</td>\n",
       "      <td>Worth Buying For The Pictures Alone (As Ever) ...</td>\n",
       "      <td>{\"seller\"=&gt;[{\"Seller_name_1\"=&gt;\"Amazon.co.uk\", ...</td>\n",
       "      <td>5</td>\n",
       "      <td>new</td>\n",
       "    </tr>\n",
       "    <tr>\n",
       "      <th>1</th>\n",
       "      <td>b17540ef7e86e461d37f3ae58b7b72ac</td>\n",
       "      <td>FunkyBuys® Large Christmas Holiday Express Fes...</td>\n",
       "      <td>FunkyBuys</td>\n",
       "      <td>16.99</td>\n",
       "      <td>NaN</td>\n",
       "      <td>2</td>\n",
       "      <td>1.0</td>\n",
       "      <td>4.5</td>\n",
       "      <td>Hobbies &gt; Model Trains &amp; Railway Sets &gt; Rail V...</td>\n",
       "      <td>http://www.amazon.co.uk/Christmas-Holiday-Expr...</td>\n",
       "      <td>Size Name:Large FunkyBuys® Large Christmas Hol...</td>\n",
       "      <td>Technical Details Manufacturer recommended age...</td>\n",
       "      <td>Size Name:Large FunkyBuys® Large Christmas Hol...</td>\n",
       "      <td>http://www.amazon.co.uk/Christmas-Holiday-Expr...</td>\n",
       "      <td>can you turn off sounds // hi no you cant turn...</td>\n",
       "      <td>Four Stars // 4.0 // 18 Dec. 2015 // By\\n    \\...</td>\n",
       "      <td>{\"seller\"=&gt;{\"Seller_name_1\"=&gt;\"UHD WHOLESALE\", ...</td>\n",
       "      <td>NaN</td>\n",
       "      <td>NaN</td>\n",
       "    </tr>\n",
       "    <tr>\n",
       "      <th>2</th>\n",
       "      <td>348f344247b0c1a935b1223072ef9d8a</td>\n",
       "      <td>CLASSIC TOY TRAIN SET TRACK CARRIAGES LIGHT EN...</td>\n",
       "      <td>ccf</td>\n",
       "      <td>9.99</td>\n",
       "      <td>2 new</td>\n",
       "      <td>17</td>\n",
       "      <td>2.0</td>\n",
       "      <td>3.9</td>\n",
       "      <td>Hobbies &gt; Model Trains &amp; Railway Sets &gt; Rail V...</td>\n",
       "      <td>http://www.amazon.co.uk/Classic-Train-Lights-B...</td>\n",
       "      <td>BIG CLASSIC TOY TRAIN SET TRACK CARRIAGE LIGHT...</td>\n",
       "      <td>Technical Details Manufacturer recommended age...</td>\n",
       "      <td>BIG CLASSIC TOY TRAIN SET TRACK CARRIAGE LIGHT...</td>\n",
       "      <td>http://www.amazon.co.uk/Train-With-Tracks-Batt...</td>\n",
       "      <td>What is the gauge of the track // Hi Paul.Trut...</td>\n",
       "      <td>**Highly Recommended!** // 5.0 // 26 May 2015 ...</td>\n",
       "      <td>{\"seller\"=&gt;[{\"Seller_name_1\"=&gt;\"DEAL-BOX\", \"Sel...</td>\n",
       "      <td>2</td>\n",
       "      <td>new</td>\n",
       "    </tr>\n",
       "    <tr>\n",
       "      <th>3</th>\n",
       "      <td>e12b92dbb8eaee78b22965d2a9bbbd9f</td>\n",
       "      <td>HORNBY Coach R4410A BR Hawksworth Corridor 3rd</td>\n",
       "      <td>Hornby</td>\n",
       "      <td>39.99</td>\n",
       "      <td>NaN</td>\n",
       "      <td>1</td>\n",
       "      <td>2.0</td>\n",
       "      <td>5.0</td>\n",
       "      <td>Hobbies &gt; Model Trains &amp; Railway Sets &gt; Rail V...</td>\n",
       "      <td>NaN</td>\n",
       "      <td>Hornby 00 Gauge BR Hawksworth 3rd Class W 2107...</td>\n",
       "      <td>Technical Details Item Weight259 g Product Dim...</td>\n",
       "      <td>Hornby 00 Gauge BR Hawksworth 3rd Class W 2107...</td>\n",
       "      <td>NaN</td>\n",
       "      <td>NaN</td>\n",
       "      <td>I love it // 5.0 // 22 July 2013 // By\\n    \\n...</td>\n",
       "      <td>NaN</td>\n",
       "      <td>NaN</td>\n",
       "      <td>NaN</td>\n",
       "    </tr>\n",
       "    <tr>\n",
       "      <th>4</th>\n",
       "      <td>e33a9adeed5f36840ccc227db4682a36</td>\n",
       "      <td>Hornby 00 Gauge 0-4-0 Gildenlow Salt Co. Steam...</td>\n",
       "      <td>Hornby</td>\n",
       "      <td>32.19</td>\n",
       "      <td>NaN</td>\n",
       "      <td>3</td>\n",
       "      <td>2.0</td>\n",
       "      <td>4.7</td>\n",
       "      <td>Hobbies &gt; Model Trains &amp; Railway Sets &gt; Rail V...</td>\n",
       "      <td>http://www.amazon.co.uk/Hornby-R6367-RailRoad-...</td>\n",
       "      <td>Product Description Hornby RailRoad 0-4-0 Gild...</td>\n",
       "      <td>Technical Details Item Weight159 g Product Dim...</td>\n",
       "      <td>Product Description Hornby RailRoad 0-4-0 Gild...</td>\n",
       "      <td>http://www.amazon.co.uk/Hornby-R2672-RailRoad-...</td>\n",
       "      <td>NaN</td>\n",
       "      <td>Birthday present // 5.0 // 14 April 2014 // By...</td>\n",
       "      <td>NaN</td>\n",
       "      <td>NaN</td>\n",
       "      <td>NaN</td>\n",
       "    </tr>\n",
       "  </tbody>\n",
       "</table>\n",
       "</div>"
      ],
      "text/plain": [
       "                            uniq_id  \\\n",
       "0  eac7efa5dbd3d667f26eb3d3ab504464   \n",
       "1  b17540ef7e86e461d37f3ae58b7b72ac   \n",
       "2  348f344247b0c1a935b1223072ef9d8a   \n",
       "3  e12b92dbb8eaee78b22965d2a9bbbd9f   \n",
       "4  e33a9adeed5f36840ccc227db4682a36   \n",
       "\n",
       "                                        product_name manufacturer  price  \\\n",
       "0                              Hornby 2014 Catalogue       Hornby   3.42   \n",
       "1  FunkyBuys® Large Christmas Holiday Express Fes...    FunkyBuys  16.99   \n",
       "2  CLASSIC TOY TRAIN SET TRACK CARRIAGES LIGHT EN...          ccf   9.99   \n",
       "3     HORNBY Coach R4410A BR Hawksworth Corridor 3rd       Hornby  39.99   \n",
       "4  Hornby 00 Gauge 0-4-0 Gildenlow Salt Co. Steam...       Hornby  32.19   \n",
       "\n",
       "  number_available_in_stock number_of_reviews  number_of_answered_questions  \\\n",
       "0                     5 new                15                           1.0   \n",
       "1                       NaN                 2                           1.0   \n",
       "2                     2 new                17                           2.0   \n",
       "3                       NaN                 1                           2.0   \n",
       "4                       NaN                 3                           2.0   \n",
       "\n",
       "   average_review_rating                   amazon_category_and_sub_category  \\\n",
       "0                    4.9  Hobbies > Model Trains & Railway Sets > Rail V...   \n",
       "1                    4.5  Hobbies > Model Trains & Railway Sets > Rail V...   \n",
       "2                    3.9  Hobbies > Model Trains & Railway Sets > Rail V...   \n",
       "3                    5.0  Hobbies > Model Trains & Railway Sets > Rail V...   \n",
       "4                    4.7  Hobbies > Model Trains & Railway Sets > Rail V...   \n",
       "\n",
       "          customers_who_bought_this_item_also_bought  \\\n",
       "0  http://www.amazon.co.uk/Hornby-R8150-Catalogue...   \n",
       "1  http://www.amazon.co.uk/Christmas-Holiday-Expr...   \n",
       "2  http://www.amazon.co.uk/Classic-Train-Lights-B...   \n",
       "3                                                NaN   \n",
       "4  http://www.amazon.co.uk/Hornby-R6367-RailRoad-...   \n",
       "\n",
       "                                         description  \\\n",
       "0  Product Description Hornby 2014 Catalogue Box ...   \n",
       "1  Size Name:Large FunkyBuys® Large Christmas Hol...   \n",
       "2  BIG CLASSIC TOY TRAIN SET TRACK CARRIAGE LIGHT...   \n",
       "3  Hornby 00 Gauge BR Hawksworth 3rd Class W 2107...   \n",
       "4  Product Description Hornby RailRoad 0-4-0 Gild...   \n",
       "\n",
       "                                 product_information  \\\n",
       "0  Technical Details Item Weight640 g Product Dim...   \n",
       "1  Technical Details Manufacturer recommended age...   \n",
       "2  Technical Details Manufacturer recommended age...   \n",
       "3  Technical Details Item Weight259 g Product Dim...   \n",
       "4  Technical Details Item Weight159 g Product Dim...   \n",
       "\n",
       "                                 product_description  \\\n",
       "0  Product Description Hornby 2014 Catalogue Box ...   \n",
       "1  Size Name:Large FunkyBuys® Large Christmas Hol...   \n",
       "2  BIG CLASSIC TOY TRAIN SET TRACK CARRIAGE LIGHT...   \n",
       "3  Hornby 00 Gauge BR Hawksworth 3rd Class W 2107...   \n",
       "4  Product Description Hornby RailRoad 0-4-0 Gild...   \n",
       "\n",
       "         items_customers_buy_after_viewing_this_item  \\\n",
       "0  http://www.amazon.co.uk/Hornby-R8150-Catalogue...   \n",
       "1  http://www.amazon.co.uk/Christmas-Holiday-Expr...   \n",
       "2  http://www.amazon.co.uk/Train-With-Tracks-Batt...   \n",
       "3                                                NaN   \n",
       "4  http://www.amazon.co.uk/Hornby-R2672-RailRoad-...   \n",
       "\n",
       "                      customer_questions_and_answers  \\\n",
       "0  Does this catalogue detail all the previous Ho...   \n",
       "1  can you turn off sounds // hi no you cant turn...   \n",
       "2  What is the gauge of the track // Hi Paul.Trut...   \n",
       "3                                                NaN   \n",
       "4                                                NaN   \n",
       "\n",
       "                                    customer_reviews  \\\n",
       "0  Worth Buying For The Pictures Alone (As Ever) ...   \n",
       "1  Four Stars // 4.0 // 18 Dec. 2015 // By\\n    \\...   \n",
       "2  **Highly Recommended!** // 5.0 // 26 May 2015 ...   \n",
       "3  I love it // 5.0 // 22 July 2013 // By\\n    \\n...   \n",
       "4  Birthday present // 5.0 // 14 April 2014 // By...   \n",
       "\n",
       "                                             sellers quan_available condition  \n",
       "0  {\"seller\"=>[{\"Seller_name_1\"=>\"Amazon.co.uk\", ...              5       new  \n",
       "1  {\"seller\"=>{\"Seller_name_1\"=>\"UHD WHOLESALE\", ...            NaN       NaN  \n",
       "2  {\"seller\"=>[{\"Seller_name_1\"=>\"DEAL-BOX\", \"Sel...              2       new  \n",
       "3                                                NaN            NaN       NaN  \n",
       "4                                                NaN            NaN       NaN  "
      ]
     },
     "execution_count": 6,
     "metadata": {},
     "output_type": "execute_result"
    }
   ],
   "source": [
    "toys_all.head()"
   ]
  },
  {
   "cell_type": "code",
   "execution_count": 7,
   "metadata": {},
   "outputs": [
    {
     "name": "stdout",
     "output_type": "stream",
     "text": [
      "<class 'pandas.core.frame.DataFrame'>\n",
      "Int64Index: 8565 entries, 0 to 9999\n",
      "Data columns (total 19 columns):\n",
      " #   Column                                       Non-Null Count  Dtype  \n",
      "---  ------                                       --------------  -----  \n",
      " 0   uniq_id                                      8565 non-null   object \n",
      " 1   product_name                                 8565 non-null   object \n",
      " 2   manufacturer                                 8560 non-null   object \n",
      " 3   price                                        8565 non-null   object \n",
      " 4   number_available_in_stock                    6336 non-null   object \n",
      " 5   number_of_reviews                            8550 non-null   object \n",
      " 6   number_of_answered_questions                 7891 non-null   float64\n",
      " 7   average_review_rating                        8565 non-null   float64\n",
      " 8   amazon_category_and_sub_category             8013 non-null   object \n",
      " 9   customers_who_bought_this_item_also_bought   7628 non-null   object \n",
      " 10  description                                  8013 non-null   object \n",
      " 11  product_information                          8511 non-null   object \n",
      " 12  product_description                          8013 non-null   object \n",
      " 13  items_customers_buy_after_viewing_this_item  5879 non-null   object \n",
      " 14  customer_questions_and_answers               821 non-null    object \n",
      " 15  customer_reviews                             8548 non-null   object \n",
      " 16  sellers                                      6080 non-null   object \n",
      " 17  quan_available                               6336 non-null   object \n",
      " 18  condition                                    6336 non-null   object \n",
      "dtypes: float64(2), object(17)\n",
      "memory usage: 1.3+ MB\n"
     ]
    }
   ],
   "source": [
    "toys_all.info()"
   ]
  },
  {
   "cell_type": "code",
   "execution_count": null,
   "metadata": {},
   "outputs": [],
   "source": []
  },
  {
   "cell_type": "markdown",
   "metadata": {},
   "source": [
    "### Sub-Dataset: Category"
   ]
  },
  {
   "cell_type": "markdown",
   "metadata": {},
   "source": [
    "I include `uniq_id` and `product_name` in all the sub datasets for further analysis. In relational database, `uniq_id` is the primary key to identify each product. "
   ]
  },
  {
   "cell_type": "markdown",
   "metadata": {},
   "source": [
    "Variable    | Type    | Definition\n",
    ":---:| :---:|:---:\n",
    "uniq_id     | object  | unique identifier    \n",
    "product_name| object  | name of the product, not necessary unique\n",
    "category1   | object  | main category \n",
    "category2   | object  | sub category to main category\n",
    "category3   | object  | sub category to category2\n",
    "category4   | object  | sub category to category3\n",
    "category5   | object  | sub category to category4"
   ]
  },
  {
   "cell_type": "code",
   "execution_count": 8,
   "metadata": {},
   "outputs": [],
   "source": [
    "def get_category_df(toys_all):\n",
    "    \n",
    "    #select variables needed in this sub dataset\n",
    "    category = toys_all[['uniq_id', 'product_name', 'amazon_category_and_sub_category']]\n",
    "    \n",
    "    #the datasets have five category max\n",
    "    category[['category1','category2','category3','category4','category5']] = category['amazon_category_and_sub_category'].str.split('>',expand=True)\n",
    "    \n",
    "    #drop\n",
    "    category.drop('amazon_category_and_sub_category',axis=1,inplace=True)\n",
    "    cols = ['category1','category2','category3','category4','category5']\n",
    "    \n",
    "    #remove leading or trailing spaces\n",
    "    category[cols] = category[cols].apply(lambda x: x.str.strip())\n",
    "    \n",
    "    return category"
   ]
  },
  {
   "cell_type": "code",
   "execution_count": 9,
   "metadata": {},
   "outputs": [],
   "source": [
    "category = get_category_df(toys_all)"
   ]
  },
  {
   "cell_type": "code",
   "execution_count": 10,
   "metadata": {},
   "outputs": [
    {
     "name": "stdout",
     "output_type": "stream",
     "text": [
      "<class 'pandas.core.frame.DataFrame'>\n",
      "Int64Index: 8565 entries, 0 to 9999\n",
      "Data columns (total 7 columns):\n",
      " #   Column        Non-Null Count  Dtype \n",
      "---  ------        --------------  ----- \n",
      " 0   uniq_id       8565 non-null   object\n",
      " 1   product_name  8565 non-null   object\n",
      " 2   category1     8013 non-null   object\n",
      " 3   category2     8013 non-null   object\n",
      " 4   category3     4730 non-null   object\n",
      " 5   category4     1220 non-null   object\n",
      " 6   category5     75 non-null     object\n",
      "dtypes: object(7)\n",
      "memory usage: 535.3+ KB\n"
     ]
    }
   ],
   "source": [
    "category.info()"
   ]
  },
  {
   "cell_type": "code",
   "execution_count": null,
   "metadata": {},
   "outputs": [],
   "source": []
  },
  {
   "cell_type": "code",
   "execution_count": null,
   "metadata": {},
   "outputs": [],
   "source": []
  },
  {
   "cell_type": "code",
   "execution_count": null,
   "metadata": {},
   "outputs": [],
   "source": []
  },
  {
   "cell_type": "code",
   "execution_count": null,
   "metadata": {},
   "outputs": [],
   "source": []
  },
  {
   "cell_type": "code",
   "execution_count": null,
   "metadata": {},
   "outputs": [],
   "source": []
  },
  {
   "cell_type": "markdown",
   "metadata": {},
   "source": [
    "### Sub dataset: Also bought"
   ]
  },
  {
   "cell_type": "markdown",
   "metadata": {},
   "source": [
    "Variable    | Type    | Definition\n",
    ":---:| :---:|:---:\n",
    "uniq_id     | Object  | unique identifier     \n",
    "product_name| Object  | name of the product, not necessary unique\n",
    "also_bought_URL   | Object  | References to other items that similar users bought  \n",
    "buy_after_view_URL   | Object  | References to other items that similar users bought that item but did not bought this item\n"
   ]
  },
  {
   "cell_type": "code",
   "execution_count": 11,
   "metadata": {},
   "outputs": [],
   "source": [
    "def get_alsobought_df(toys_all):\n",
    "    \n",
    "    # select variable needed\n",
    "    also_bought = toys_all[['uniq_id', 'product_name', 'customers_who_bought_this_item_also_bought', \n",
    "                      'items_customers_buy_after_viewing_this_item']] \n",
    "    \n",
    "    # split urls and explode to one column\n",
    "    also_bought['also_bought_URL'] = also_bought['customers_who_bought_this_item_also_bought'].apply(lambda x: str(x).split('|'))\n",
    "    also_bought = also_bought.explode('also_bought_URL')\n",
    "    \n",
    "    #remove leading and trailing spaces\n",
    "    also_bought['also_bought_URL'] = also_bought['also_bought_URL'].apply(lambda x: str(x).strip())\n",
    "    \n",
    "    #split urls and explode to one column and explode to one column\n",
    "    also_bought['buy_after_view_URL'] = also_bought['items_customers_buy_after_viewing_this_item'].apply(lambda x: str(x).split('|'))\n",
    "    also_bought = also_bought.explode('buy_after_view_URL')\n",
    "    \n",
    "    #remove leading and trailing spaces\n",
    "    also_bought['buy_after_view_URL'] = also_bought['buy_after_view_URL'].apply(lambda x: str(x).strip())\n",
    "    \n",
    "    #drop \n",
    "    also_bought.drop(['customers_who_bought_this_item_also_bought','items_customers_buy_after_viewing_this_item'],axis=1,inplace=True)\n",
    "    \n",
    "    return also_bought\n",
    "    "
   ]
  },
  {
   "cell_type": "code",
   "execution_count": 12,
   "metadata": {},
   "outputs": [],
   "source": [
    "also_bought = get_alsobought_df(toys_all)"
   ]
  },
  {
   "cell_type": "code",
   "execution_count": 13,
   "metadata": {},
   "outputs": [
    {
     "name": "stdout",
     "output_type": "stream",
     "text": [
      "<class 'pandas.core.frame.DataFrame'>\n",
      "Int64Index: 129544 entries, 0 to 9999\n",
      "Data columns (total 4 columns):\n",
      " #   Column              Non-Null Count   Dtype \n",
      "---  ------              --------------   ----- \n",
      " 0   uniq_id             129544 non-null  object\n",
      " 1   product_name        129544 non-null  object\n",
      " 2   also_bought_URL     129544 non-null  object\n",
      " 3   buy_after_view_URL  129544 non-null  object\n",
      "dtypes: object(4)\n",
      "memory usage: 4.9+ MB\n"
     ]
    }
   ],
   "source": [
    "also_bought.info()"
   ]
  },
  {
   "cell_type": "code",
   "execution_count": 14,
   "metadata": {},
   "outputs": [
    {
     "data": {
      "text/html": [
       "<div>\n",
       "<style scoped>\n",
       "    .dataframe tbody tr th:only-of-type {\n",
       "        vertical-align: middle;\n",
       "    }\n",
       "\n",
       "    .dataframe tbody tr th {\n",
       "        vertical-align: top;\n",
       "    }\n",
       "\n",
       "    .dataframe thead th {\n",
       "        text-align: right;\n",
       "    }\n",
       "</style>\n",
       "<table border=\"1\" class=\"dataframe\">\n",
       "  <thead>\n",
       "    <tr style=\"text-align: right;\">\n",
       "      <th></th>\n",
       "      <th>uniq_id</th>\n",
       "      <th>product_name</th>\n",
       "      <th>also_bought_URL</th>\n",
       "      <th>buy_after_view_URL</th>\n",
       "    </tr>\n",
       "  </thead>\n",
       "  <tbody>\n",
       "    <tr>\n",
       "      <th>0</th>\n",
       "      <td>eac7efa5dbd3d667f26eb3d3ab504464</td>\n",
       "      <td>Hornby 2014 Catalogue</td>\n",
       "      <td>http://www.amazon.co.uk/Hornby-R8150-Catalogue...</td>\n",
       "      <td>http://www.amazon.co.uk/Hornby-R8150-Catalogue...</td>\n",
       "    </tr>\n",
       "    <tr>\n",
       "      <th>0</th>\n",
       "      <td>eac7efa5dbd3d667f26eb3d3ab504464</td>\n",
       "      <td>Hornby 2014 Catalogue</td>\n",
       "      <td>http://www.amazon.co.uk/Hornby-R8150-Catalogue...</td>\n",
       "      <td>http://www.amazon.co.uk/Hornby-Book-Model-Rail...</td>\n",
       "    </tr>\n",
       "    <tr>\n",
       "      <th>0</th>\n",
       "      <td>eac7efa5dbd3d667f26eb3d3ab504464</td>\n",
       "      <td>Hornby 2014 Catalogue</td>\n",
       "      <td>http://www.amazon.co.uk/Hornby-R8150-Catalogue...</td>\n",
       "      <td>http://www.amazon.co.uk/Peco-60-Plans-Book/dp/...</td>\n",
       "    </tr>\n",
       "    <tr>\n",
       "      <th>0</th>\n",
       "      <td>eac7efa5dbd3d667f26eb3d3ab504464</td>\n",
       "      <td>Hornby 2014 Catalogue</td>\n",
       "      <td>http://www.amazon.co.uk/Hornby-R8150-Catalogue...</td>\n",
       "      <td>http://www.amazon.co.uk/Newcomers-Guide-Model-...</td>\n",
       "    </tr>\n",
       "    <tr>\n",
       "      <th>0</th>\n",
       "      <td>eac7efa5dbd3d667f26eb3d3ab504464</td>\n",
       "      <td>Hornby 2014 Catalogue</td>\n",
       "      <td>http://www.amazon.co.uk/Hornby-Book-Model-Rail...</td>\n",
       "      <td>http://www.amazon.co.uk/Hornby-R8150-Catalogue...</td>\n",
       "    </tr>\n",
       "  </tbody>\n",
       "</table>\n",
       "</div>"
      ],
      "text/plain": [
       "                            uniq_id           product_name  \\\n",
       "0  eac7efa5dbd3d667f26eb3d3ab504464  Hornby 2014 Catalogue   \n",
       "0  eac7efa5dbd3d667f26eb3d3ab504464  Hornby 2014 Catalogue   \n",
       "0  eac7efa5dbd3d667f26eb3d3ab504464  Hornby 2014 Catalogue   \n",
       "0  eac7efa5dbd3d667f26eb3d3ab504464  Hornby 2014 Catalogue   \n",
       "0  eac7efa5dbd3d667f26eb3d3ab504464  Hornby 2014 Catalogue   \n",
       "\n",
       "                                     also_bought_URL  \\\n",
       "0  http://www.amazon.co.uk/Hornby-R8150-Catalogue...   \n",
       "0  http://www.amazon.co.uk/Hornby-R8150-Catalogue...   \n",
       "0  http://www.amazon.co.uk/Hornby-R8150-Catalogue...   \n",
       "0  http://www.amazon.co.uk/Hornby-R8150-Catalogue...   \n",
       "0  http://www.amazon.co.uk/Hornby-Book-Model-Rail...   \n",
       "\n",
       "                                  buy_after_view_URL  \n",
       "0  http://www.amazon.co.uk/Hornby-R8150-Catalogue...  \n",
       "0  http://www.amazon.co.uk/Hornby-Book-Model-Rail...  \n",
       "0  http://www.amazon.co.uk/Peco-60-Plans-Book/dp/...  \n",
       "0  http://www.amazon.co.uk/Newcomers-Guide-Model-...  \n",
       "0  http://www.amazon.co.uk/Hornby-R8150-Catalogue...  "
      ]
     },
     "execution_count": 14,
     "metadata": {},
     "output_type": "execute_result"
    }
   ],
   "source": [
    "also_bought.head()"
   ]
  },
  {
   "cell_type": "code",
   "execution_count": null,
   "metadata": {},
   "outputs": [],
   "source": []
  },
  {
   "cell_type": "code",
   "execution_count": null,
   "metadata": {},
   "outputs": [],
   "source": []
  },
  {
   "cell_type": "markdown",
   "metadata": {},
   "source": [
    "### Sub Dataset: Q&A"
   ]
  },
  {
   "cell_type": "markdown",
   "metadata": {},
   "source": [
    "Variable    | Type    | Definition\n",
    ":---:| :---:|:---:\n",
    "uniq_id     | Object  | unique identifiers    \n",
    "product_name| Object  | name of the product, not necessary unique\n",
    "question  | Object  | questions toward this product \n",
    "answer   | Object  | answers to the question "
   ]
  },
  {
   "cell_type": "code",
   "execution_count": 15,
   "metadata": {},
   "outputs": [],
   "source": [
    "def get_QA_df(toys_all):\n",
    "    \n",
    "    # select variables needed\n",
    "    QA = toys_all[['uniq_id', 'product_name', 'customer_questions_and_answers']]\n",
    "    \n",
    "    #split and explode to one column\n",
    "    QA['Q_A'] = QA['customer_questions_and_answers'].apply(lambda x: str(x).split('|'))\n",
    "    QA = QA.explode('Q_A')\n",
    "    \n",
    "    #remove leading and trailing spaces\n",
    "    QA['Q_A'] = QA['Q_A'].apply(lambda x: str(x).strip())\n",
    "    \n",
    "    #split question and answer to two columns and drop the oginial column\n",
    "    QA[['question','answer']] = QA['Q_A'].str.split(' //',expand=True)\n",
    "    QA.drop(['customer_questions_and_answers','Q_A'],axis=1,inplace=True)\n",
    "    \n",
    "    return QA"
   ]
  },
  {
   "cell_type": "code",
   "execution_count": 16,
   "metadata": {},
   "outputs": [],
   "source": [
    "QA = get_QA_df(toys_all)"
   ]
  },
  {
   "cell_type": "code",
   "execution_count": 17,
   "metadata": {},
   "outputs": [
    {
     "name": "stdout",
     "output_type": "stream",
     "text": [
      "<class 'pandas.core.frame.DataFrame'>\n",
      "Int64Index: 9278 entries, 0 to 9999\n",
      "Data columns (total 4 columns):\n",
      " #   Column        Non-Null Count  Dtype \n",
      "---  ------        --------------  ----- \n",
      " 0   uniq_id       9278 non-null   object\n",
      " 1   product_name  9278 non-null   object\n",
      " 2   question      9278 non-null   object\n",
      " 3   answer        1534 non-null   object\n",
      "dtypes: object(4)\n",
      "memory usage: 362.4+ KB\n"
     ]
    }
   ],
   "source": [
    "QA.info()"
   ]
  },
  {
   "cell_type": "code",
   "execution_count": 18,
   "metadata": {},
   "outputs": [
    {
     "data": {
      "text/html": [
       "<div>\n",
       "<style scoped>\n",
       "    .dataframe tbody tr th:only-of-type {\n",
       "        vertical-align: middle;\n",
       "    }\n",
       "\n",
       "    .dataframe tbody tr th {\n",
       "        vertical-align: top;\n",
       "    }\n",
       "\n",
       "    .dataframe thead th {\n",
       "        text-align: right;\n",
       "    }\n",
       "</style>\n",
       "<table border=\"1\" class=\"dataframe\">\n",
       "  <thead>\n",
       "    <tr style=\"text-align: right;\">\n",
       "      <th></th>\n",
       "      <th>uniq_id</th>\n",
       "      <th>product_name</th>\n",
       "      <th>question</th>\n",
       "      <th>answer</th>\n",
       "    </tr>\n",
       "  </thead>\n",
       "  <tbody>\n",
       "    <tr>\n",
       "      <th>0</th>\n",
       "      <td>eac7efa5dbd3d667f26eb3d3ab504464</td>\n",
       "      <td>Hornby 2014 Catalogue</td>\n",
       "      <td>Does this catalogue detail all the previous Ho...</td>\n",
       "      <td>HiThe 2014 catalogue does indeed detail previ...</td>\n",
       "    </tr>\n",
       "    <tr>\n",
       "      <th>1</th>\n",
       "      <td>b17540ef7e86e461d37f3ae58b7b72ac</td>\n",
       "      <td>FunkyBuys® Large Christmas Holiday Express Fes...</td>\n",
       "      <td>can you turn off sounds</td>\n",
       "      <td>hi no you cant turn sound off</td>\n",
       "    </tr>\n",
       "    <tr>\n",
       "      <th>2</th>\n",
       "      <td>348f344247b0c1a935b1223072ef9d8a</td>\n",
       "      <td>CLASSIC TOY TRAIN SET TRACK CARRIAGES LIGHT EN...</td>\n",
       "      <td>What is the gauge of the track</td>\n",
       "      <td>Hi Paul.Truthfully, I'm not sure. But it's ve...</td>\n",
       "    </tr>\n",
       "    <tr>\n",
       "      <th>2</th>\n",
       "      <td>348f344247b0c1a935b1223072ef9d8a</td>\n",
       "      <td>CLASSIC TOY TRAIN SET TRACK CARRIAGES LIGHT EN...</td>\n",
       "      <td>what is the layout of the tracks?</td>\n",
       "      <td>Its an oval shape layout</td>\n",
       "    </tr>\n",
       "    <tr>\n",
       "      <th>3</th>\n",
       "      <td>e12b92dbb8eaee78b22965d2a9bbbd9f</td>\n",
       "      <td>HORNBY Coach R4410A BR Hawksworth Corridor 3rd</td>\n",
       "      <td>nan</td>\n",
       "      <td>None</td>\n",
       "    </tr>\n",
       "  </tbody>\n",
       "</table>\n",
       "</div>"
      ],
      "text/plain": [
       "                            uniq_id  \\\n",
       "0  eac7efa5dbd3d667f26eb3d3ab504464   \n",
       "1  b17540ef7e86e461d37f3ae58b7b72ac   \n",
       "2  348f344247b0c1a935b1223072ef9d8a   \n",
       "2  348f344247b0c1a935b1223072ef9d8a   \n",
       "3  e12b92dbb8eaee78b22965d2a9bbbd9f   \n",
       "\n",
       "                                        product_name  \\\n",
       "0                              Hornby 2014 Catalogue   \n",
       "1  FunkyBuys® Large Christmas Holiday Express Fes...   \n",
       "2  CLASSIC TOY TRAIN SET TRACK CARRIAGES LIGHT EN...   \n",
       "2  CLASSIC TOY TRAIN SET TRACK CARRIAGES LIGHT EN...   \n",
       "3     HORNBY Coach R4410A BR Hawksworth Corridor 3rd   \n",
       "\n",
       "                                            question  \\\n",
       "0  Does this catalogue detail all the previous Ho...   \n",
       "1                            can you turn off sounds   \n",
       "2                     What is the gauge of the track   \n",
       "2                  what is the layout of the tracks?   \n",
       "3                                                nan   \n",
       "\n",
       "                                              answer  \n",
       "0   HiThe 2014 catalogue does indeed detail previ...  \n",
       "1                      hi no you cant turn sound off  \n",
       "2   Hi Paul.Truthfully, I'm not sure. But it's ve...  \n",
       "2                           Its an oval shape layout  \n",
       "3                                               None  "
      ]
     },
     "execution_count": 18,
     "metadata": {},
     "output_type": "execute_result"
    }
   ],
   "source": [
    "QA.head()"
   ]
  },
  {
   "cell_type": "code",
   "execution_count": null,
   "metadata": {},
   "outputs": [],
   "source": []
  },
  {
   "cell_type": "code",
   "execution_count": null,
   "metadata": {},
   "outputs": [],
   "source": []
  },
  {
   "cell_type": "code",
   "execution_count": null,
   "metadata": {},
   "outputs": [],
   "source": []
  },
  {
   "cell_type": "code",
   "execution_count": null,
   "metadata": {},
   "outputs": [],
   "source": []
  },
  {
   "cell_type": "code",
   "execution_count": null,
   "metadata": {},
   "outputs": [],
   "source": []
  },
  {
   "cell_type": "code",
   "execution_count": null,
   "metadata": {},
   "outputs": [],
   "source": []
  },
  {
   "cell_type": "markdown",
   "metadata": {},
   "source": [
    "### Sub dataset: Customer Reviews"
   ]
  },
  {
   "cell_type": "markdown",
   "metadata": {},
   "source": [
    "Variable    | Type    | Definition\n",
    ":---:| :---:|:---:\n",
    "uniq_id     | Object  | unique identifier     \n",
    "product_name| Object  | name of the product, not necessary unique\n",
    "comment_title   | Object  | titles written by customers when they write reviews \n",
    "indi_score   | Object  | scores correspond to customers reviews\n",
    "date   | Date  | the time when customers write reviews\n",
    "reviewers   | Object  | customers who write reviews\n",
    "content   | Object  | comments written by customers"
   ]
  },
  {
   "cell_type": "code",
   "execution_count": 19,
   "metadata": {},
   "outputs": [],
   "source": [
    "def get_review_df(toys_all):\n",
    "    \n",
    "    # select variable needed\n",
    "    reviews = toys_all[['uniq_id', 'product_name', 'customer_reviews']]\n",
    "    \n",
    "    #split customer_reviews and explode to one column\n",
    "    reviews['customer_reviews'] = reviews['customer_reviews'].apply(lambda x: str(x).split('|'))\n",
    "    reviews = reviews.explode('customer_reviews')\n",
    "    \n",
    "    #extract four pieces of information from the reviews\n",
    "    reviews[[\"comment_title\", \"indi_score\",\"date\",\"reviewer\",\"content\"]] = reviews['customer_reviews'].str.split(' // ',expand=True)\n",
    "    \n",
    "    #change the date data type\n",
    "    reviews['date'] = pd.to_datetime(reviews['date'])\n",
    "    \n",
    "    # regular expression to tidy and drop the original\n",
    "    reviews['reviewer'] = reviews['reviewer'].apply(lambda x: str(x).strip())\n",
    "    reviews['reviewer'] = reviews['reviewer'].apply(lambda x: re.sub('By\\n    \\n    ','',str(x)))\n",
    "    reviews['reviewer'] = reviews['reviewer'].apply(lambda x: str(x).split('\\n  \\n ')[0])\n",
    "    reviews.drop(['customer_reviews'],axis=1,inplace=True)\n",
    "    \n",
    "    return reviews"
   ]
  },
  {
   "cell_type": "code",
   "execution_count": 20,
   "metadata": {},
   "outputs": [],
   "source": [
    "reviews = get_review_df(toys_all)"
   ]
  },
  {
   "cell_type": "code",
   "execution_count": 21,
   "metadata": {},
   "outputs": [
    {
     "name": "stdout",
     "output_type": "stream",
     "text": [
      "<class 'pandas.core.frame.DataFrame'>\n",
      "Int64Index: 25452 entries, 0 to 9999\n",
      "Data columns (total 7 columns):\n",
      " #   Column         Non-Null Count  Dtype         \n",
      "---  ------         --------------  -----         \n",
      " 0   uniq_id        25452 non-null  object        \n",
      " 1   product_name   25452 non-null  object        \n",
      " 2   comment_title  25452 non-null  object        \n",
      " 3   indi_score     25431 non-null  object        \n",
      " 4   date           25428 non-null  datetime64[ns]\n",
      " 5   reviewer       25452 non-null  object        \n",
      " 6   content        25425 non-null  object        \n",
      "dtypes: datetime64[ns](1), object(6)\n",
      "memory usage: 1.6+ MB\n"
     ]
    }
   ],
   "source": [
    "reviews.info()"
   ]
  },
  {
   "cell_type": "code",
   "execution_count": 22,
   "metadata": {},
   "outputs": [
    {
     "data": {
      "text/html": [
       "<div>\n",
       "<style scoped>\n",
       "    .dataframe tbody tr th:only-of-type {\n",
       "        vertical-align: middle;\n",
       "    }\n",
       "\n",
       "    .dataframe tbody tr th {\n",
       "        vertical-align: top;\n",
       "    }\n",
       "\n",
       "    .dataframe thead th {\n",
       "        text-align: right;\n",
       "    }\n",
       "</style>\n",
       "<table border=\"1\" class=\"dataframe\">\n",
       "  <thead>\n",
       "    <tr style=\"text-align: right;\">\n",
       "      <th></th>\n",
       "      <th>uniq_id</th>\n",
       "      <th>product_name</th>\n",
       "      <th>comment_title</th>\n",
       "      <th>indi_score</th>\n",
       "      <th>date</th>\n",
       "      <th>reviewer</th>\n",
       "      <th>content</th>\n",
       "    </tr>\n",
       "  </thead>\n",
       "  <tbody>\n",
       "    <tr>\n",
       "      <th>0</th>\n",
       "      <td>eac7efa5dbd3d667f26eb3d3ab504464</td>\n",
       "      <td>Hornby 2014 Catalogue</td>\n",
       "      <td>Worth Buying For The Pictures Alone (As Ever)</td>\n",
       "      <td>4.0</td>\n",
       "      <td>2014-04-06</td>\n",
       "      <td>Copnovelist</td>\n",
       "      <td>Part of the magic for me growing up as a boy w...</td>\n",
       "    </tr>\n",
       "    <tr>\n",
       "      <th>0</th>\n",
       "      <td>eac7efa5dbd3d667f26eb3d3ab504464</td>\n",
       "      <td>Hornby 2014 Catalogue</td>\n",
       "      <td>Amazing detail fabulous photography.</td>\n",
       "      <td>5.0</td>\n",
       "      <td>2015-04-11</td>\n",
       "      <td>richard</td>\n",
       "      <td>Amazing detail, every credit to the photograph...</td>\n",
       "    </tr>\n",
       "    <tr>\n",
       "      <th>0</th>\n",
       "      <td>eac7efa5dbd3d667f26eb3d3ab504464</td>\n",
       "      <td>Hornby 2014 Catalogue</td>\n",
       "      <td>'Great Purchase'</td>\n",
       "      <td>5.0</td>\n",
       "      <td>2014-04-23</td>\n",
       "      <td>Pinkhandbag</td>\n",
       "      <td>This was purchased on behalf of my Dad. He is ...</td>\n",
       "    </tr>\n",
       "    <tr>\n",
       "      <th>0</th>\n",
       "      <td>eac7efa5dbd3d667f26eb3d3ab504464</td>\n",
       "      <td>Hornby 2014 Catalogue</td>\n",
       "      <td>Great Catalogue</td>\n",
       "      <td>5.0</td>\n",
       "      <td>2014-06-11</td>\n",
       "      <td>Gary John Mapson</td>\n",
       "      <td>Everything I really needed to see what was on ...</td>\n",
       "    </tr>\n",
       "    <tr>\n",
       "      <th>0</th>\n",
       "      <td>eac7efa5dbd3d667f26eb3d3ab504464</td>\n",
       "      <td>Hornby 2014 Catalogue</td>\n",
       "      <td>I collect them all as the glossy pictures are...</td>\n",
       "      <td>5.0</td>\n",
       "      <td>2014-12-07</td>\n",
       "      <td>David Baker</td>\n",
       "      <td>I collect them all as the glossy pictures are ...</td>\n",
       "    </tr>\n",
       "  </tbody>\n",
       "</table>\n",
       "</div>"
      ],
      "text/plain": [
       "                            uniq_id           product_name  \\\n",
       "0  eac7efa5dbd3d667f26eb3d3ab504464  Hornby 2014 Catalogue   \n",
       "0  eac7efa5dbd3d667f26eb3d3ab504464  Hornby 2014 Catalogue   \n",
       "0  eac7efa5dbd3d667f26eb3d3ab504464  Hornby 2014 Catalogue   \n",
       "0  eac7efa5dbd3d667f26eb3d3ab504464  Hornby 2014 Catalogue   \n",
       "0  eac7efa5dbd3d667f26eb3d3ab504464  Hornby 2014 Catalogue   \n",
       "\n",
       "                                       comment_title indi_score       date  \\\n",
       "0      Worth Buying For The Pictures Alone (As Ever)        4.0 2014-04-06   \n",
       "0               Amazing detail fabulous photography.        5.0 2015-04-11   \n",
       "0                                   'Great Purchase'        5.0 2014-04-23   \n",
       "0                                    Great Catalogue        5.0 2014-06-11   \n",
       "0   I collect them all as the glossy pictures are...        5.0 2014-12-07   \n",
       "\n",
       "           reviewer                                            content  \n",
       "0       Copnovelist  Part of the magic for me growing up as a boy w...  \n",
       "0           richard  Amazing detail, every credit to the photograph...  \n",
       "0       Pinkhandbag  This was purchased on behalf of my Dad. He is ...  \n",
       "0  Gary John Mapson  Everything I really needed to see what was on ...  \n",
       "0       David Baker  I collect them all as the glossy pictures are ...  "
      ]
     },
     "execution_count": 22,
     "metadata": {},
     "output_type": "execute_result"
    }
   ],
   "source": [
    "reviews.head()"
   ]
  },
  {
   "cell_type": "code",
   "execution_count": null,
   "metadata": {},
   "outputs": [],
   "source": []
  },
  {
   "cell_type": "code",
   "execution_count": null,
   "metadata": {},
   "outputs": [],
   "source": []
  },
  {
   "cell_type": "code",
   "execution_count": null,
   "metadata": {},
   "outputs": [],
   "source": []
  },
  {
   "cell_type": "code",
   "execution_count": null,
   "metadata": {},
   "outputs": [],
   "source": []
  },
  {
   "cell_type": "code",
   "execution_count": null,
   "metadata": {},
   "outputs": [],
   "source": []
  },
  {
   "cell_type": "code",
   "execution_count": null,
   "metadata": {},
   "outputs": [],
   "source": []
  },
  {
   "cell_type": "markdown",
   "metadata": {},
   "source": [
    "### sub dataset: all_sellers"
   ]
  },
  {
   "cell_type": "markdown",
   "metadata": {},
   "source": [
    "Variable    | Type    | Definition\n",
    ":---:| :---:|:---:\n",
    "uniq_id     | Object  | unique identifier     \n",
    "product_name| Object  | name of the product, not necessary unique\n",
    "seller  | Object  | sellers which sell the correspond products \n",
    "seller_price   | Object  | price correspond to the seller "
   ]
  },
  {
   "cell_type": "code",
   "execution_count": 23,
   "metadata": {},
   "outputs": [],
   "source": [
    "def get_seller_df(toys_all):\n",
    "    \n",
    "    #select variable needed\n",
    "    all_sellers = toys_all[['uniq_id','product_name', 'sellers']]\n",
    "    \n",
    "    # define some regular expression patterns in the sellers and the corresponding replacement\n",
    "    re_pattern = [(r'\\{\"seller\"=>',''),(r'\\[\\{\"Seller_name_[0-9]0\"=>\"',''),(r'\\[\\{\"Seller_name_[0-9]\"=>\"',''),\n",
    "              (r'\\{\"Seller_name_[0-9]0\"=>\"',''),(r'\\{\"Seller_name_[0-9]\"=>\"',''),\n",
    "              (r'Seller_price_[0-9]0\"=>\"',''),(r'Seller_price_[0-9]\"=>\"',''),\n",
    "             (r'\"\\}\\}',''),(r'\"\\}\\]\\}',''),(r'\"\\}, ','|')]\n",
    "    \n",
    "    # for loop to remove those syntax\n",
    "    for old, new in re_pattern:\n",
    "        all_sellers['sellers'] = all_sellers['sellers'].apply(lambda x:re.sub(old,new,str(x)))\n",
    "    \n",
    "    # split and explode to one column\n",
    "    all_sellers['sellers'] = all_sellers['sellers'].apply(lambda x: str(x).split('|'))\n",
    "    all_sellers = all_sellers.explode('sellers')\n",
    "    \n",
    "    # split the column to seller and price\n",
    "    all_sellers[[\"seller\",\"seller_price\"]] = all_sellers['sellers'].str.split('\", \"',expand=True)\n",
    "    \n",
    "    #remove dollar sign and drop original\n",
    "    all_sellers['seller_price'] = all_sellers['seller_price'].apply(lambda x:re.sub('£','',str(x)))\n",
    "    all_sellers.drop(['sellers'],axis=1,inplace=True)\n",
    "    \n",
    "    return all_sellers"
   ]
  },
  {
   "cell_type": "code",
   "execution_count": 24,
   "metadata": {},
   "outputs": [],
   "source": [
    "all_sellers = get_seller_df(toys_all)"
   ]
  },
  {
   "cell_type": "code",
   "execution_count": 25,
   "metadata": {},
   "outputs": [
    {
     "name": "stdout",
     "output_type": "stream",
     "text": [
      "<class 'pandas.core.frame.DataFrame'>\n",
      "Int64Index: 31894 entries, 0 to 9999\n",
      "Data columns (total 4 columns):\n",
      " #   Column        Non-Null Count  Dtype \n",
      "---  ------        --------------  ----- \n",
      " 0   uniq_id       31894 non-null  object\n",
      " 1   product_name  31894 non-null  object\n",
      " 2   seller        31894 non-null  object\n",
      " 3   seller_price  31894 non-null  object\n",
      "dtypes: object(4)\n",
      "memory usage: 1.2+ MB\n"
     ]
    }
   ],
   "source": [
    "all_sellers.info()"
   ]
  },
  {
   "cell_type": "code",
   "execution_count": 26,
   "metadata": {},
   "outputs": [
    {
     "data": {
      "text/html": [
       "<div>\n",
       "<style scoped>\n",
       "    .dataframe tbody tr th:only-of-type {\n",
       "        vertical-align: middle;\n",
       "    }\n",
       "\n",
       "    .dataframe tbody tr th {\n",
       "        vertical-align: top;\n",
       "    }\n",
       "\n",
       "    .dataframe thead th {\n",
       "        text-align: right;\n",
       "    }\n",
       "</style>\n",
       "<table border=\"1\" class=\"dataframe\">\n",
       "  <thead>\n",
       "    <tr style=\"text-align: right;\">\n",
       "      <th></th>\n",
       "      <th>uniq_id</th>\n",
       "      <th>product_name</th>\n",
       "      <th>seller</th>\n",
       "      <th>seller_price</th>\n",
       "    </tr>\n",
       "  </thead>\n",
       "  <tbody>\n",
       "    <tr>\n",
       "      <th>0</th>\n",
       "      <td>eac7efa5dbd3d667f26eb3d3ab504464</td>\n",
       "      <td>Hornby 2014 Catalogue</td>\n",
       "      <td>Amazon.co.uk</td>\n",
       "      <td>3.42</td>\n",
       "    </tr>\n",
       "    <tr>\n",
       "      <th>0</th>\n",
       "      <td>eac7efa5dbd3d667f26eb3d3ab504464</td>\n",
       "      <td>Hornby 2014 Catalogue</td>\n",
       "      <td>**stop-&amp;-shop-uk**</td>\n",
       "      <td>0.19</td>\n",
       "    </tr>\n",
       "    <tr>\n",
       "      <th>0</th>\n",
       "      <td>eac7efa5dbd3d667f26eb3d3ab504464</td>\n",
       "      <td>Hornby 2014 Catalogue</td>\n",
       "      <td>World Wide Shopping Mall Ltd</td>\n",
       "      <td>9.99</td>\n",
       "    </tr>\n",
       "    <tr>\n",
       "      <th>0</th>\n",
       "      <td>eac7efa5dbd3d667f26eb3d3ab504464</td>\n",
       "      <td>Hornby 2014 Catalogue</td>\n",
       "      <td>MyHobbyStore Retail</td>\n",
       "      <td>8.00</td>\n",
       "    </tr>\n",
       "    <tr>\n",
       "      <th>0</th>\n",
       "      <td>eac7efa5dbd3d667f26eb3d3ab504464</td>\n",
       "      <td>Hornby 2014 Catalogue</td>\n",
       "      <td>francejouet</td>\n",
       "      <td>37.62</td>\n",
       "    </tr>\n",
       "  </tbody>\n",
       "</table>\n",
       "</div>"
      ],
      "text/plain": [
       "                            uniq_id           product_name  \\\n",
       "0  eac7efa5dbd3d667f26eb3d3ab504464  Hornby 2014 Catalogue   \n",
       "0  eac7efa5dbd3d667f26eb3d3ab504464  Hornby 2014 Catalogue   \n",
       "0  eac7efa5dbd3d667f26eb3d3ab504464  Hornby 2014 Catalogue   \n",
       "0  eac7efa5dbd3d667f26eb3d3ab504464  Hornby 2014 Catalogue   \n",
       "0  eac7efa5dbd3d667f26eb3d3ab504464  Hornby 2014 Catalogue   \n",
       "\n",
       "                         seller seller_price  \n",
       "0                  Amazon.co.uk         3.42  \n",
       "0            **stop-&-shop-uk**         0.19  \n",
       "0  World Wide Shopping Mall Ltd         9.99  \n",
       "0           MyHobbyStore Retail         8.00  \n",
       "0                   francejouet        37.62  "
      ]
     },
     "execution_count": 26,
     "metadata": {},
     "output_type": "execute_result"
    }
   ],
   "source": [
    "all_sellers.head()"
   ]
  },
  {
   "cell_type": "code",
   "execution_count": null,
   "metadata": {},
   "outputs": [],
   "source": []
  },
  {
   "cell_type": "code",
   "execution_count": null,
   "metadata": {},
   "outputs": [],
   "source": []
  },
  {
   "cell_type": "code",
   "execution_count": null,
   "metadata": {},
   "outputs": [],
   "source": []
  },
  {
   "cell_type": "code",
   "execution_count": null,
   "metadata": {},
   "outputs": [],
   "source": []
  },
  {
   "cell_type": "markdown",
   "metadata": {},
   "source": [
    "### sub dataset: products"
   ]
  },
  {
   "cell_type": "markdown",
   "metadata": {},
   "source": [
    "Variable    | Type    | Definition\n",
    ":---:| :---:|:---:\n",
    "uniq_id     | Object  | unique identifier     \n",
    "product_name| Object  | name of the product, not necessary unique\n",
    "manufacturer   | Object  | The item manufacturer, as reported on Amazon \n",
    "price   | Object  | price of the product in Amazon\n",
    "quan_available   | Object  | numbers of product available for sale\n",
    "condition   | Object  | condition of the available product\n",
    "number_of_reviews   | Object  | the number of reviews written by customers\n",
    "number_of_answered_questions |  Float   | the number of pairs Q&A\n",
    "average_review_rating        |  Float   | average review scores correspond to the product\n",
    "product_infomation           |  Object   | including technical details of the product\n",
    "product_description          |  Object   | describe the function of the product"
   ]
  },
  {
   "cell_type": "code",
   "execution_count": 27,
   "metadata": {},
   "outputs": [],
   "source": [
    "def get_products_df(toys_all):\n",
    "    \n",
    "    # select variable needed\n",
    "    products = toys_all[['uniq_id', 'product_name', 'manufacturer', 'price', 'quan_available',\n",
    "                   'condition', 'number_of_reviews', 'number_of_answered_questions',\n",
    "                   'average_review_rating', 'product_information', 'product_description']]\n",
    "    \n",
    "    # impute missing values\n",
    "    products['quan_available'] = products['quan_available'].fillna(0)\n",
    "    products['number_of_answered_questions'] = products['number_of_answered_questions'].fillna(0)\n",
    "    \n",
    "    return products\n",
    "    "
   ]
  },
  {
   "cell_type": "code",
   "execution_count": 28,
   "metadata": {},
   "outputs": [],
   "source": [
    "products = get_products_df(toys_all)"
   ]
  },
  {
   "cell_type": "code",
   "execution_count": 29,
   "metadata": {},
   "outputs": [
    {
     "name": "stdout",
     "output_type": "stream",
     "text": [
      "<class 'pandas.core.frame.DataFrame'>\n",
      "Int64Index: 8565 entries, 0 to 9999\n",
      "Data columns (total 11 columns):\n",
      " #   Column                        Non-Null Count  Dtype  \n",
      "---  ------                        --------------  -----  \n",
      " 0   uniq_id                       8565 non-null   object \n",
      " 1   product_name                  8565 non-null   object \n",
      " 2   manufacturer                  8560 non-null   object \n",
      " 3   price                         8565 non-null   object \n",
      " 4   quan_available                8565 non-null   object \n",
      " 5   condition                     6336 non-null   object \n",
      " 6   number_of_reviews             8550 non-null   object \n",
      " 7   number_of_answered_questions  8565 non-null   float64\n",
      " 8   average_review_rating         8565 non-null   float64\n",
      " 9   product_information           8511 non-null   object \n",
      " 10  product_description           8013 non-null   object \n",
      "dtypes: float64(2), object(9)\n",
      "memory usage: 803.0+ KB\n"
     ]
    }
   ],
   "source": [
    "products.info()"
   ]
  },
  {
   "cell_type": "code",
   "execution_count": 30,
   "metadata": {},
   "outputs": [
    {
     "data": {
      "text/html": [
       "<div>\n",
       "<style scoped>\n",
       "    .dataframe tbody tr th:only-of-type {\n",
       "        vertical-align: middle;\n",
       "    }\n",
       "\n",
       "    .dataframe tbody tr th {\n",
       "        vertical-align: top;\n",
       "    }\n",
       "\n",
       "    .dataframe thead th {\n",
       "        text-align: right;\n",
       "    }\n",
       "</style>\n",
       "<table border=\"1\" class=\"dataframe\">\n",
       "  <thead>\n",
       "    <tr style=\"text-align: right;\">\n",
       "      <th></th>\n",
       "      <th>uniq_id</th>\n",
       "      <th>product_name</th>\n",
       "      <th>manufacturer</th>\n",
       "      <th>price</th>\n",
       "      <th>quan_available</th>\n",
       "      <th>condition</th>\n",
       "      <th>number_of_reviews</th>\n",
       "      <th>number_of_answered_questions</th>\n",
       "      <th>average_review_rating</th>\n",
       "      <th>product_information</th>\n",
       "      <th>product_description</th>\n",
       "    </tr>\n",
       "  </thead>\n",
       "  <tbody>\n",
       "    <tr>\n",
       "      <th>0</th>\n",
       "      <td>eac7efa5dbd3d667f26eb3d3ab504464</td>\n",
       "      <td>Hornby 2014 Catalogue</td>\n",
       "      <td>Hornby</td>\n",
       "      <td>3.42</td>\n",
       "      <td>5</td>\n",
       "      <td>new</td>\n",
       "      <td>15</td>\n",
       "      <td>1.0</td>\n",
       "      <td>4.9</td>\n",
       "      <td>Technical Details Item Weight640 g Product Dim...</td>\n",
       "      <td>Product Description Hornby 2014 Catalogue Box ...</td>\n",
       "    </tr>\n",
       "    <tr>\n",
       "      <th>1</th>\n",
       "      <td>b17540ef7e86e461d37f3ae58b7b72ac</td>\n",
       "      <td>FunkyBuys® Large Christmas Holiday Express Fes...</td>\n",
       "      <td>FunkyBuys</td>\n",
       "      <td>16.99</td>\n",
       "      <td>0</td>\n",
       "      <td>NaN</td>\n",
       "      <td>2</td>\n",
       "      <td>1.0</td>\n",
       "      <td>4.5</td>\n",
       "      <td>Technical Details Manufacturer recommended age...</td>\n",
       "      <td>Size Name:Large FunkyBuys® Large Christmas Hol...</td>\n",
       "    </tr>\n",
       "    <tr>\n",
       "      <th>2</th>\n",
       "      <td>348f344247b0c1a935b1223072ef9d8a</td>\n",
       "      <td>CLASSIC TOY TRAIN SET TRACK CARRIAGES LIGHT EN...</td>\n",
       "      <td>ccf</td>\n",
       "      <td>9.99</td>\n",
       "      <td>2</td>\n",
       "      <td>new</td>\n",
       "      <td>17</td>\n",
       "      <td>2.0</td>\n",
       "      <td>3.9</td>\n",
       "      <td>Technical Details Manufacturer recommended age...</td>\n",
       "      <td>BIG CLASSIC TOY TRAIN SET TRACK CARRIAGE LIGHT...</td>\n",
       "    </tr>\n",
       "    <tr>\n",
       "      <th>3</th>\n",
       "      <td>e12b92dbb8eaee78b22965d2a9bbbd9f</td>\n",
       "      <td>HORNBY Coach R4410A BR Hawksworth Corridor 3rd</td>\n",
       "      <td>Hornby</td>\n",
       "      <td>39.99</td>\n",
       "      <td>0</td>\n",
       "      <td>NaN</td>\n",
       "      <td>1</td>\n",
       "      <td>2.0</td>\n",
       "      <td>5.0</td>\n",
       "      <td>Technical Details Item Weight259 g Product Dim...</td>\n",
       "      <td>Hornby 00 Gauge BR Hawksworth 3rd Class W 2107...</td>\n",
       "    </tr>\n",
       "    <tr>\n",
       "      <th>4</th>\n",
       "      <td>e33a9adeed5f36840ccc227db4682a36</td>\n",
       "      <td>Hornby 00 Gauge 0-4-0 Gildenlow Salt Co. Steam...</td>\n",
       "      <td>Hornby</td>\n",
       "      <td>32.19</td>\n",
       "      <td>0</td>\n",
       "      <td>NaN</td>\n",
       "      <td>3</td>\n",
       "      <td>2.0</td>\n",
       "      <td>4.7</td>\n",
       "      <td>Technical Details Item Weight159 g Product Dim...</td>\n",
       "      <td>Product Description Hornby RailRoad 0-4-0 Gild...</td>\n",
       "    </tr>\n",
       "  </tbody>\n",
       "</table>\n",
       "</div>"
      ],
      "text/plain": [
       "                            uniq_id  \\\n",
       "0  eac7efa5dbd3d667f26eb3d3ab504464   \n",
       "1  b17540ef7e86e461d37f3ae58b7b72ac   \n",
       "2  348f344247b0c1a935b1223072ef9d8a   \n",
       "3  e12b92dbb8eaee78b22965d2a9bbbd9f   \n",
       "4  e33a9adeed5f36840ccc227db4682a36   \n",
       "\n",
       "                                        product_name manufacturer  price  \\\n",
       "0                              Hornby 2014 Catalogue       Hornby   3.42   \n",
       "1  FunkyBuys® Large Christmas Holiday Express Fes...    FunkyBuys  16.99   \n",
       "2  CLASSIC TOY TRAIN SET TRACK CARRIAGES LIGHT EN...          ccf   9.99   \n",
       "3     HORNBY Coach R4410A BR Hawksworth Corridor 3rd       Hornby  39.99   \n",
       "4  Hornby 00 Gauge 0-4-0 Gildenlow Salt Co. Steam...       Hornby  32.19   \n",
       "\n",
       "  quan_available condition number_of_reviews  number_of_answered_questions  \\\n",
       "0              5       new                15                           1.0   \n",
       "1              0       NaN                 2                           1.0   \n",
       "2              2       new                17                           2.0   \n",
       "3              0       NaN                 1                           2.0   \n",
       "4              0       NaN                 3                           2.0   \n",
       "\n",
       "   average_review_rating                                product_information  \\\n",
       "0                    4.9  Technical Details Item Weight640 g Product Dim...   \n",
       "1                    4.5  Technical Details Manufacturer recommended age...   \n",
       "2                    3.9  Technical Details Manufacturer recommended age...   \n",
       "3                    5.0  Technical Details Item Weight259 g Product Dim...   \n",
       "4                    4.7  Technical Details Item Weight159 g Product Dim...   \n",
       "\n",
       "                                 product_description  \n",
       "0  Product Description Hornby 2014 Catalogue Box ...  \n",
       "1  Size Name:Large FunkyBuys® Large Christmas Hol...  \n",
       "2  BIG CLASSIC TOY TRAIN SET TRACK CARRIAGE LIGHT...  \n",
       "3  Hornby 00 Gauge BR Hawksworth 3rd Class W 2107...  \n",
       "4  Product Description Hornby RailRoad 0-4-0 Gild...  "
      ]
     },
     "execution_count": 30,
     "metadata": {},
     "output_type": "execute_result"
    }
   ],
   "source": [
    "products.head()"
   ]
  },
  {
   "cell_type": "code",
   "execution_count": null,
   "metadata": {},
   "outputs": [],
   "source": []
  },
  {
   "cell_type": "code",
   "execution_count": null,
   "metadata": {},
   "outputs": [],
   "source": []
  },
  {
   "cell_type": "markdown",
   "metadata": {},
   "source": [
    "### output thse sub datasets for later analysis"
   ]
  },
  {
   "cell_type": "code",
   "execution_count": 31,
   "metadata": {},
   "outputs": [],
   "source": [
    "category.to_csv('category_df.csv',index=None)"
   ]
  },
  {
   "cell_type": "code",
   "execution_count": 32,
   "metadata": {},
   "outputs": [],
   "source": [
    "also_bought.to_csv('also_bought_df.csv',index=None)"
   ]
  },
  {
   "cell_type": "code",
   "execution_count": 33,
   "metadata": {},
   "outputs": [],
   "source": [
    "QA.to_csv('QA_df.csv',index=None)"
   ]
  },
  {
   "cell_type": "code",
   "execution_count": 34,
   "metadata": {},
   "outputs": [],
   "source": [
    "reviews.to_csv('reviews_df.csv',index=None)"
   ]
  },
  {
   "cell_type": "code",
   "execution_count": 35,
   "metadata": {},
   "outputs": [],
   "source": [
    "all_sellers.to_csv('all_sellers_df.csv',index=None)"
   ]
  },
  {
   "cell_type": "code",
   "execution_count": 36,
   "metadata": {},
   "outputs": [],
   "source": [
    "products.to_csv('products_df.csv',index=None)"
   ]
  },
  {
   "cell_type": "code",
   "execution_count": null,
   "metadata": {},
   "outputs": [],
   "source": []
  }
 ],
 "metadata": {
  "kernelspec": {
   "display_name": "Python 3",
   "language": "python",
   "name": "python3"
  },
  "language_info": {
   "codemirror_mode": {
    "name": "ipython",
    "version": 3
   },
   "file_extension": ".py",
   "mimetype": "text/x-python",
   "name": "python",
   "nbconvert_exporter": "python",
   "pygments_lexer": "ipython3",
   "version": "3.6.10"
  }
 },
 "nbformat": 4,
 "nbformat_minor": 4
}
