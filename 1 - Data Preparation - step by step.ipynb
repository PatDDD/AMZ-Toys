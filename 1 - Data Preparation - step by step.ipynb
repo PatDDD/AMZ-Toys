{
 "cells": [
  {
   "cell_type": "markdown",
   "metadata": {},
   "source": [
    "# AMZ Toys Project Part 1 - Data Preparation"
   ]
  },
  {
   "cell_type": "code",
   "execution_count": 1,
   "metadata": {},
   "outputs": [],
   "source": [
    "import pandas as pd\n",
    "import numpy as np\n",
    "import seaborn as sns\n",
    "import matplotlib.pyplot as plt\n",
    "import re"
   ]
  },
  {
   "cell_type": "code",
   "execution_count": 2,
   "metadata": {},
   "outputs": [],
   "source": [
    "pd.options.mode.chained_assignment = None"
   ]
  },
  {
   "cell_type": "code",
   "execution_count": 3,
   "metadata": {},
   "outputs": [],
   "source": [
    "# import dataset\n",
    "toys_all = pd.read_csv(\"C:/Users/dukun/Course/Intro to R/CS1/Toys_Amazon.csv\", encoding=\"utf-8\")"
   ]
  },
  {
   "cell_type": "code",
   "execution_count": 5,
   "metadata": {},
   "outputs": [
    {
     "data": {
      "text/html": [
       "<div>\n",
       "<style scoped>\n",
       "    .dataframe tbody tr th:only-of-type {\n",
       "        vertical-align: middle;\n",
       "    }\n",
       "\n",
       "    .dataframe tbody tr th {\n",
       "        vertical-align: top;\n",
       "    }\n",
       "\n",
       "    .dataframe thead th {\n",
       "        text-align: right;\n",
       "    }\n",
       "</style>\n",
       "<table border=\"1\" class=\"dataframe\">\n",
       "  <thead>\n",
       "    <tr style=\"text-align: right;\">\n",
       "      <th></th>\n",
       "      <th>uniq_id</th>\n",
       "      <th>product_name</th>\n",
       "      <th>manufacturer</th>\n",
       "      <th>price</th>\n",
       "      <th>number_available_in_stock</th>\n",
       "      <th>number_of_reviews</th>\n",
       "      <th>number_of_answered_questions</th>\n",
       "      <th>average_review_rating</th>\n",
       "      <th>amazon_category_and_sub_category</th>\n",
       "      <th>customers_who_bought_this_item_also_bought</th>\n",
       "      <th>description</th>\n",
       "      <th>product_information</th>\n",
       "      <th>product_description</th>\n",
       "      <th>items_customers_buy_after_viewing_this_item</th>\n",
       "      <th>customer_questions_and_answers</th>\n",
       "      <th>customer_reviews</th>\n",
       "      <th>sellers</th>\n",
       "    </tr>\n",
       "  </thead>\n",
       "  <tbody>\n",
       "    <tr>\n",
       "      <th>0</th>\n",
       "      <td>eac7efa5dbd3d667f26eb3d3ab504464</td>\n",
       "      <td>Hornby 2014 Catalogue</td>\n",
       "      <td>Hornby</td>\n",
       "      <td>£3.42</td>\n",
       "      <td>5 new</td>\n",
       "      <td>15</td>\n",
       "      <td>1.0</td>\n",
       "      <td>4.9 out of 5 stars</td>\n",
       "      <td>Hobbies &gt; Model Trains &amp; Railway Sets &gt; Rail V...</td>\n",
       "      <td>http://www.amazon.co.uk/Hornby-R8150-Catalogue...</td>\n",
       "      <td>Product Description Hornby 2014 Catalogue Box ...</td>\n",
       "      <td>Technical Details Item Weight640 g Product Dim...</td>\n",
       "      <td>Product Description Hornby 2014 Catalogue Box ...</td>\n",
       "      <td>http://www.amazon.co.uk/Hornby-R8150-Catalogue...</td>\n",
       "      <td>Does this catalogue detail all the previous Ho...</td>\n",
       "      <td>Worth Buying For The Pictures Alone (As Ever) ...</td>\n",
       "      <td>{\"seller\"=&gt;[{\"Seller_name_1\"=&gt;\"Amazon.co.uk\", ...</td>\n",
       "    </tr>\n",
       "    <tr>\n",
       "      <th>1</th>\n",
       "      <td>b17540ef7e86e461d37f3ae58b7b72ac</td>\n",
       "      <td>FunkyBuys® Large Christmas Holiday Express Fes...</td>\n",
       "      <td>FunkyBuys</td>\n",
       "      <td>£16.99</td>\n",
       "      <td>NaN</td>\n",
       "      <td>2</td>\n",
       "      <td>1.0</td>\n",
       "      <td>4.5 out of 5 stars</td>\n",
       "      <td>Hobbies &gt; Model Trains &amp; Railway Sets &gt; Rail V...</td>\n",
       "      <td>http://www.amazon.co.uk/Christmas-Holiday-Expr...</td>\n",
       "      <td>Size Name:Large FunkyBuys® Large Christmas Hol...</td>\n",
       "      <td>Technical Details Manufacturer recommended age...</td>\n",
       "      <td>Size Name:Large FunkyBuys® Large Christmas Hol...</td>\n",
       "      <td>http://www.amazon.co.uk/Christmas-Holiday-Expr...</td>\n",
       "      <td>can you turn off sounds // hi no you cant turn...</td>\n",
       "      <td>Four Stars // 4.0 // 18 Dec. 2015 // By\\n    \\...</td>\n",
       "      <td>{\"seller\"=&gt;{\"Seller_name_1\"=&gt;\"UHD WHOLESALE\", ...</td>\n",
       "    </tr>\n",
       "    <tr>\n",
       "      <th>2</th>\n",
       "      <td>348f344247b0c1a935b1223072ef9d8a</td>\n",
       "      <td>CLASSIC TOY TRAIN SET TRACK CARRIAGES LIGHT EN...</td>\n",
       "      <td>ccf</td>\n",
       "      <td>£9.99</td>\n",
       "      <td>2 new</td>\n",
       "      <td>17</td>\n",
       "      <td>2.0</td>\n",
       "      <td>3.9 out of 5 stars</td>\n",
       "      <td>Hobbies &gt; Model Trains &amp; Railway Sets &gt; Rail V...</td>\n",
       "      <td>http://www.amazon.co.uk/Classic-Train-Lights-B...</td>\n",
       "      <td>BIG CLASSIC TOY TRAIN SET TRACK CARRIAGE LIGHT...</td>\n",
       "      <td>Technical Details Manufacturer recommended age...</td>\n",
       "      <td>BIG CLASSIC TOY TRAIN SET TRACK CARRIAGE LIGHT...</td>\n",
       "      <td>http://www.amazon.co.uk/Train-With-Tracks-Batt...</td>\n",
       "      <td>What is the gauge of the track // Hi Paul.Trut...</td>\n",
       "      <td>**Highly Recommended!** // 5.0 // 26 May 2015 ...</td>\n",
       "      <td>{\"seller\"=&gt;[{\"Seller_name_1\"=&gt;\"DEAL-BOX\", \"Sel...</td>\n",
       "    </tr>\n",
       "    <tr>\n",
       "      <th>3</th>\n",
       "      <td>e12b92dbb8eaee78b22965d2a9bbbd9f</td>\n",
       "      <td>HORNBY Coach R4410A BR Hawksworth Corridor 3rd</td>\n",
       "      <td>Hornby</td>\n",
       "      <td>£39.99</td>\n",
       "      <td>NaN</td>\n",
       "      <td>1</td>\n",
       "      <td>2.0</td>\n",
       "      <td>5.0 out of 5 stars</td>\n",
       "      <td>Hobbies &gt; Model Trains &amp; Railway Sets &gt; Rail V...</td>\n",
       "      <td>NaN</td>\n",
       "      <td>Hornby 00 Gauge BR Hawksworth 3rd Class W 2107...</td>\n",
       "      <td>Technical Details Item Weight259 g Product Dim...</td>\n",
       "      <td>Hornby 00 Gauge BR Hawksworth 3rd Class W 2107...</td>\n",
       "      <td>NaN</td>\n",
       "      <td>NaN</td>\n",
       "      <td>I love it // 5.0 // 22 July 2013 // By\\n    \\n...</td>\n",
       "      <td>NaN</td>\n",
       "    </tr>\n",
       "    <tr>\n",
       "      <th>4</th>\n",
       "      <td>e33a9adeed5f36840ccc227db4682a36</td>\n",
       "      <td>Hornby 00 Gauge 0-4-0 Gildenlow Salt Co. Steam...</td>\n",
       "      <td>Hornby</td>\n",
       "      <td>£32.19</td>\n",
       "      <td>NaN</td>\n",
       "      <td>3</td>\n",
       "      <td>2.0</td>\n",
       "      <td>4.7 out of 5 stars</td>\n",
       "      <td>Hobbies &gt; Model Trains &amp; Railway Sets &gt; Rail V...</td>\n",
       "      <td>http://www.amazon.co.uk/Hornby-R6367-RailRoad-...</td>\n",
       "      <td>Product Description Hornby RailRoad 0-4-0 Gild...</td>\n",
       "      <td>Technical Details Item Weight159 g Product Dim...</td>\n",
       "      <td>Product Description Hornby RailRoad 0-4-0 Gild...</td>\n",
       "      <td>http://www.amazon.co.uk/Hornby-R2672-RailRoad-...</td>\n",
       "      <td>NaN</td>\n",
       "      <td>Birthday present // 5.0 // 14 April 2014 // By...</td>\n",
       "      <td>NaN</td>\n",
       "    </tr>\n",
       "  </tbody>\n",
       "</table>\n",
       "</div>"
      ],
      "text/plain": [
       "                            uniq_id  \\\n",
       "0  eac7efa5dbd3d667f26eb3d3ab504464   \n",
       "1  b17540ef7e86e461d37f3ae58b7b72ac   \n",
       "2  348f344247b0c1a935b1223072ef9d8a   \n",
       "3  e12b92dbb8eaee78b22965d2a9bbbd9f   \n",
       "4  e33a9adeed5f36840ccc227db4682a36   \n",
       "\n",
       "                                        product_name manufacturer   price  \\\n",
       "0                              Hornby 2014 Catalogue       Hornby   £3.42   \n",
       "1  FunkyBuys® Large Christmas Holiday Express Fes...    FunkyBuys  £16.99   \n",
       "2  CLASSIC TOY TRAIN SET TRACK CARRIAGES LIGHT EN...          ccf   £9.99   \n",
       "3     HORNBY Coach R4410A BR Hawksworth Corridor 3rd       Hornby  £39.99   \n",
       "4  Hornby 00 Gauge 0-4-0 Gildenlow Salt Co. Steam...       Hornby  £32.19   \n",
       "\n",
       "  number_available_in_stock number_of_reviews  number_of_answered_questions  \\\n",
       "0                     5 new                15                           1.0   \n",
       "1                       NaN                 2                           1.0   \n",
       "2                     2 new                17                           2.0   \n",
       "3                       NaN                 1                           2.0   \n",
       "4                       NaN                 3                           2.0   \n",
       "\n",
       "  average_review_rating                   amazon_category_and_sub_category  \\\n",
       "0    4.9 out of 5 stars  Hobbies > Model Trains & Railway Sets > Rail V...   \n",
       "1    4.5 out of 5 stars  Hobbies > Model Trains & Railway Sets > Rail V...   \n",
       "2    3.9 out of 5 stars  Hobbies > Model Trains & Railway Sets > Rail V...   \n",
       "3    5.0 out of 5 stars  Hobbies > Model Trains & Railway Sets > Rail V...   \n",
       "4    4.7 out of 5 stars  Hobbies > Model Trains & Railway Sets > Rail V...   \n",
       "\n",
       "          customers_who_bought_this_item_also_bought  \\\n",
       "0  http://www.amazon.co.uk/Hornby-R8150-Catalogue...   \n",
       "1  http://www.amazon.co.uk/Christmas-Holiday-Expr...   \n",
       "2  http://www.amazon.co.uk/Classic-Train-Lights-B...   \n",
       "3                                                NaN   \n",
       "4  http://www.amazon.co.uk/Hornby-R6367-RailRoad-...   \n",
       "\n",
       "                                         description  \\\n",
       "0  Product Description Hornby 2014 Catalogue Box ...   \n",
       "1  Size Name:Large FunkyBuys® Large Christmas Hol...   \n",
       "2  BIG CLASSIC TOY TRAIN SET TRACK CARRIAGE LIGHT...   \n",
       "3  Hornby 00 Gauge BR Hawksworth 3rd Class W 2107...   \n",
       "4  Product Description Hornby RailRoad 0-4-0 Gild...   \n",
       "\n",
       "                                 product_information  \\\n",
       "0  Technical Details Item Weight640 g Product Dim...   \n",
       "1  Technical Details Manufacturer recommended age...   \n",
       "2  Technical Details Manufacturer recommended age...   \n",
       "3  Technical Details Item Weight259 g Product Dim...   \n",
       "4  Technical Details Item Weight159 g Product Dim...   \n",
       "\n",
       "                                 product_description  \\\n",
       "0  Product Description Hornby 2014 Catalogue Box ...   \n",
       "1  Size Name:Large FunkyBuys® Large Christmas Hol...   \n",
       "2  BIG CLASSIC TOY TRAIN SET TRACK CARRIAGE LIGHT...   \n",
       "3  Hornby 00 Gauge BR Hawksworth 3rd Class W 2107...   \n",
       "4  Product Description Hornby RailRoad 0-4-0 Gild...   \n",
       "\n",
       "         items_customers_buy_after_viewing_this_item  \\\n",
       "0  http://www.amazon.co.uk/Hornby-R8150-Catalogue...   \n",
       "1  http://www.amazon.co.uk/Christmas-Holiday-Expr...   \n",
       "2  http://www.amazon.co.uk/Train-With-Tracks-Batt...   \n",
       "3                                                NaN   \n",
       "4  http://www.amazon.co.uk/Hornby-R2672-RailRoad-...   \n",
       "\n",
       "                      customer_questions_and_answers  \\\n",
       "0  Does this catalogue detail all the previous Ho...   \n",
       "1  can you turn off sounds // hi no you cant turn...   \n",
       "2  What is the gauge of the track // Hi Paul.Trut...   \n",
       "3                                                NaN   \n",
       "4                                                NaN   \n",
       "\n",
       "                                    customer_reviews  \\\n",
       "0  Worth Buying For The Pictures Alone (As Ever) ...   \n",
       "1  Four Stars // 4.0 // 18 Dec. 2015 // By\\n    \\...   \n",
       "2  **Highly Recommended!** // 5.0 // 26 May 2015 ...   \n",
       "3  I love it // 5.0 // 22 July 2013 // By\\n    \\n...   \n",
       "4  Birthday present // 5.0 // 14 April 2014 // By...   \n",
       "\n",
       "                                             sellers  \n",
       "0  {\"seller\"=>[{\"Seller_name_1\"=>\"Amazon.co.uk\", ...  \n",
       "1  {\"seller\"=>{\"Seller_name_1\"=>\"UHD WHOLESALE\", ...  \n",
       "2  {\"seller\"=>[{\"Seller_name_1\"=>\"DEAL-BOX\", \"Sel...  \n",
       "3                                                NaN  \n",
       "4                                                NaN  "
      ]
     },
     "execution_count": 5,
     "metadata": {},
     "output_type": "execute_result"
    }
   ],
   "source": [
    "toys_all.head()"
   ]
  },
  {
   "cell_type": "code",
   "execution_count": 4,
   "metadata": {},
   "outputs": [
    {
     "name": "stdout",
     "output_type": "stream",
     "text": [
      "<class 'pandas.core.frame.DataFrame'>\n",
      "RangeIndex: 10000 entries, 0 to 9999\n",
      "Data columns (total 17 columns):\n",
      " #   Column                                       Non-Null Count  Dtype  \n",
      "---  ------                                       --------------  -----  \n",
      " 0   uniq_id                                      10000 non-null  object \n",
      " 1   product_name                                 10000 non-null  object \n",
      " 2   manufacturer                                 9993 non-null   object \n",
      " 3   price                                        8565 non-null   object \n",
      " 4   number_available_in_stock                    7500 non-null   object \n",
      " 5   number_of_reviews                            9982 non-null   object \n",
      " 6   number_of_answered_questions                 9235 non-null   float64\n",
      " 7   average_review_rating                        9982 non-null   object \n",
      " 8   amazon_category_and_sub_category             9310 non-null   object \n",
      " 9   customers_who_bought_this_item_also_bought   8938 non-null   object \n",
      " 10  description                                  9349 non-null   object \n",
      " 11  product_information                          9942 non-null   object \n",
      " 12  product_description                          9349 non-null   object \n",
      " 13  items_customers_buy_after_viewing_this_item  6935 non-null   object \n",
      " 14  customer_questions_and_answers               914 non-null    object \n",
      " 15  customer_reviews                             9979 non-null   object \n",
      " 16  sellers                                      6918 non-null   object \n",
      "dtypes: float64(1), object(16)\n",
      "memory usage: 1.3+ MB\n"
     ]
    }
   ],
   "source": [
    "toys_all.info()"
   ]
  },
  {
   "cell_type": "code",
   "execution_count": null,
   "metadata": {},
   "outputs": [],
   "source": []
  },
  {
   "cell_type": "code",
   "execution_count": 6,
   "metadata": {},
   "outputs": [],
   "source": [
    "# drop rows if price is null and reset index\n",
    "toys_all.dropna(how='any', subset=['price'], inplace=True)"
   ]
  },
  {
   "cell_type": "code",
   "execution_count": 7,
   "metadata": {},
   "outputs": [
    {
     "name": "stdout",
     "output_type": "stream",
     "text": [
      "<class 'pandas.core.frame.DataFrame'>\n",
      "Int64Index: 8565 entries, 0 to 9999\n",
      "Data columns (total 17 columns):\n",
      " #   Column                                       Non-Null Count  Dtype  \n",
      "---  ------                                       --------------  -----  \n",
      " 0   uniq_id                                      8565 non-null   object \n",
      " 1   product_name                                 8565 non-null   object \n",
      " 2   manufacturer                                 8560 non-null   object \n",
      " 3   price                                        8565 non-null   object \n",
      " 4   number_available_in_stock                    6336 non-null   object \n",
      " 5   number_of_reviews                            8550 non-null   object \n",
      " 6   number_of_answered_questions                 7891 non-null   float64\n",
      " 7   average_review_rating                        8550 non-null   object \n",
      " 8   amazon_category_and_sub_category             8013 non-null   object \n",
      " 9   customers_who_bought_this_item_also_bought   7628 non-null   object \n",
      " 10  description                                  8013 non-null   object \n",
      " 11  product_information                          8511 non-null   object \n",
      " 12  product_description                          8013 non-null   object \n",
      " 13  items_customers_buy_after_viewing_this_item  5879 non-null   object \n",
      " 14  customer_questions_and_answers               821 non-null    object \n",
      " 15  customer_reviews                             8548 non-null   object \n",
      " 16  sellers                                      6080 non-null   object \n",
      "dtypes: float64(1), object(16)\n",
      "memory usage: 1.2+ MB\n"
     ]
    }
   ],
   "source": [
    "toys_all.info()"
   ]
  },
  {
   "cell_type": "code",
   "execution_count": null,
   "metadata": {},
   "outputs": [],
   "source": []
  },
  {
   "cell_type": "code",
   "execution_count": null,
   "metadata": {},
   "outputs": [],
   "source": []
  },
  {
   "cell_type": "code",
   "execution_count": 8,
   "metadata": {},
   "outputs": [
    {
     "data": {
      "text/plain": [
       "0        5 new\n",
       "1          NaN\n",
       "2        2 new\n",
       "3          NaN\n",
       "4          NaN\n",
       "         ...  \n",
       "9995     5 new\n",
       "9996       NaN\n",
       "9997     3 new\n",
       "9998     3 new\n",
       "9999    31 new\n",
       "Name: number_available_in_stock, Length: 8565, dtype: object"
      ]
     },
     "execution_count": 8,
     "metadata": {},
     "output_type": "execute_result"
    }
   ],
   "source": [
    "toys_all['number_available_in_stock']"
   ]
  },
  {
   "cell_type": "code",
   "execution_count": null,
   "metadata": {},
   "outputs": [],
   "source": []
  },
  {
   "cell_type": "code",
   "execution_count": null,
   "metadata": {},
   "outputs": [],
   "source": []
  },
  {
   "cell_type": "code",
   "execution_count": 9,
   "metadata": {},
   "outputs": [],
   "source": [
    "## separate the number_available in stock column\n",
    "toys_all[['quan_available','condition']] = toys_all.number_available_in_stock.str.split(expand=True)"
   ]
  },
  {
   "cell_type": "code",
   "execution_count": 10,
   "metadata": {},
   "outputs": [],
   "source": [
    "toys_all['price'] = toys_all['price'].apply(lambda x: re.sub(\"£\", \"\",str(x)))"
   ]
  },
  {
   "cell_type": "code",
   "execution_count": 11,
   "metadata": {},
   "outputs": [],
   "source": [
    "toys_all['average_review_rating'] = toys_all['average_review_rating'].apply(lambda x: re.sub(\" out of 5 stars\", \"\", str(x)))"
   ]
  },
  {
   "cell_type": "code",
   "execution_count": 12,
   "metadata": {},
   "outputs": [],
   "source": [
    "## there are several rating values are null, impute with mean\n",
    "toys_all['average_review_rating'] = toys_all['average_review_rating'].apply(float)\n",
    "toys_all['average_review_rating'].fillna((toys_all['average_review_rating'].mean()), inplace=True)"
   ]
  },
  {
   "cell_type": "code",
   "execution_count": null,
   "metadata": {},
   "outputs": [],
   "source": []
  },
  {
   "cell_type": "code",
   "execution_count": null,
   "metadata": {},
   "outputs": [],
   "source": []
  },
  {
   "cell_type": "markdown",
   "metadata": {},
   "source": [
    "### Sub-Dataset: Category"
   ]
  },
  {
   "cell_type": "markdown",
   "metadata": {},
   "source": [
    "I include `uniq_id` and `product_name` in all the sub datasets for further analysis. In relational database, `uniq_id` is the primary key to identify each product. "
   ]
  },
  {
   "cell_type": "markdown",
   "metadata": {},
   "source": [
    "Variable    | Type    | Definition\n",
    ":---:| :---:|:---:\n",
    "uniq_id     | object  | unique identifier    \n",
    "product_name| object  | name of the product, not necessary unique\n",
    "category1   | object  | main category \n",
    "category2   | object  | sub category to main category\n",
    "category3   | object  | sub category to category2\n",
    "category4   | object  | sub category to category3\n",
    "category5   | object  | sub category to category4"
   ]
  },
  {
   "cell_type": "code",
   "execution_count": 13,
   "metadata": {},
   "outputs": [],
   "source": [
    "category = toys_all[['uniq_id', 'product_name', 'amazon_category_and_sub_category']] "
   ]
  },
  {
   "cell_type": "code",
   "execution_count": 14,
   "metadata": {},
   "outputs": [
    {
     "name": "stdout",
     "output_type": "stream",
     "text": [
      "<class 'pandas.core.frame.DataFrame'>\n",
      "Int64Index: 8565 entries, 0 to 9999\n",
      "Data columns (total 3 columns):\n",
      " #   Column                            Non-Null Count  Dtype \n",
      "---  ------                            --------------  ----- \n",
      " 0   uniq_id                           8565 non-null   object\n",
      " 1   product_name                      8565 non-null   object\n",
      " 2   amazon_category_and_sub_category  8013 non-null   object\n",
      "dtypes: object(3)\n",
      "memory usage: 267.7+ KB\n"
     ]
    }
   ],
   "source": [
    "category.info()"
   ]
  },
  {
   "cell_type": "code",
   "execution_count": 15,
   "metadata": {},
   "outputs": [],
   "source": [
    "category[['category1','category2','category3','category4','category5']] = category['amazon_category_and_sub_category'].str.split('>',expand=True)"
   ]
  },
  {
   "cell_type": "code",
   "execution_count": 16,
   "metadata": {},
   "outputs": [],
   "source": [
    "category.drop('amazon_category_and_sub_category',axis=1,inplace=True)"
   ]
  },
  {
   "cell_type": "code",
   "execution_count": 17,
   "metadata": {},
   "outputs": [],
   "source": [
    "cols = ['category1','category2','category3','category4','category5']\n",
    "category[cols] = category[cols].apply(lambda x: x.str.strip())"
   ]
  },
  {
   "cell_type": "code",
   "execution_count": 18,
   "metadata": {},
   "outputs": [
    {
     "name": "stdout",
     "output_type": "stream",
     "text": [
      "<class 'pandas.core.frame.DataFrame'>\n",
      "Int64Index: 8565 entries, 0 to 9999\n",
      "Data columns (total 7 columns):\n",
      " #   Column        Non-Null Count  Dtype \n",
      "---  ------        --------------  ----- \n",
      " 0   uniq_id       8565 non-null   object\n",
      " 1   product_name  8565 non-null   object\n",
      " 2   category1     8013 non-null   object\n",
      " 3   category2     8013 non-null   object\n",
      " 4   category3     4730 non-null   object\n",
      " 5   category4     1220 non-null   object\n",
      " 6   category5     75 non-null     object\n",
      "dtypes: object(7)\n",
      "memory usage: 535.3+ KB\n"
     ]
    }
   ],
   "source": [
    "category.info()"
   ]
  },
  {
   "cell_type": "code",
   "execution_count": 19,
   "metadata": {},
   "outputs": [
    {
     "data": {
      "text/html": [
       "<div>\n",
       "<style scoped>\n",
       "    .dataframe tbody tr th:only-of-type {\n",
       "        vertical-align: middle;\n",
       "    }\n",
       "\n",
       "    .dataframe tbody tr th {\n",
       "        vertical-align: top;\n",
       "    }\n",
       "\n",
       "    .dataframe thead th {\n",
       "        text-align: right;\n",
       "    }\n",
       "</style>\n",
       "<table border=\"1\" class=\"dataframe\">\n",
       "  <thead>\n",
       "    <tr style=\"text-align: right;\">\n",
       "      <th></th>\n",
       "      <th>uniq_id</th>\n",
       "      <th>product_name</th>\n",
       "      <th>category1</th>\n",
       "      <th>category2</th>\n",
       "      <th>category3</th>\n",
       "      <th>category4</th>\n",
       "      <th>category5</th>\n",
       "    </tr>\n",
       "  </thead>\n",
       "  <tbody>\n",
       "    <tr>\n",
       "      <th>0</th>\n",
       "      <td>eac7efa5dbd3d667f26eb3d3ab504464</td>\n",
       "      <td>Hornby 2014 Catalogue</td>\n",
       "      <td>Hobbies</td>\n",
       "      <td>Model Trains &amp; Railway Sets</td>\n",
       "      <td>Rail Vehicles</td>\n",
       "      <td>Trains</td>\n",
       "      <td>None</td>\n",
       "    </tr>\n",
       "    <tr>\n",
       "      <th>1</th>\n",
       "      <td>b17540ef7e86e461d37f3ae58b7b72ac</td>\n",
       "      <td>FunkyBuys® Large Christmas Holiday Express Fes...</td>\n",
       "      <td>Hobbies</td>\n",
       "      <td>Model Trains &amp; Railway Sets</td>\n",
       "      <td>Rail Vehicles</td>\n",
       "      <td>Trains</td>\n",
       "      <td>None</td>\n",
       "    </tr>\n",
       "    <tr>\n",
       "      <th>2</th>\n",
       "      <td>348f344247b0c1a935b1223072ef9d8a</td>\n",
       "      <td>CLASSIC TOY TRAIN SET TRACK CARRIAGES LIGHT EN...</td>\n",
       "      <td>Hobbies</td>\n",
       "      <td>Model Trains &amp; Railway Sets</td>\n",
       "      <td>Rail Vehicles</td>\n",
       "      <td>Trains</td>\n",
       "      <td>None</td>\n",
       "    </tr>\n",
       "    <tr>\n",
       "      <th>3</th>\n",
       "      <td>e12b92dbb8eaee78b22965d2a9bbbd9f</td>\n",
       "      <td>HORNBY Coach R4410A BR Hawksworth Corridor 3rd</td>\n",
       "      <td>Hobbies</td>\n",
       "      <td>Model Trains &amp; Railway Sets</td>\n",
       "      <td>Rail Vehicles</td>\n",
       "      <td>Trains</td>\n",
       "      <td>None</td>\n",
       "    </tr>\n",
       "    <tr>\n",
       "      <th>4</th>\n",
       "      <td>e33a9adeed5f36840ccc227db4682a36</td>\n",
       "      <td>Hornby 00 Gauge 0-4-0 Gildenlow Salt Co. Steam...</td>\n",
       "      <td>Hobbies</td>\n",
       "      <td>Model Trains &amp; Railway Sets</td>\n",
       "      <td>Rail Vehicles</td>\n",
       "      <td>Trains</td>\n",
       "      <td>None</td>\n",
       "    </tr>\n",
       "  </tbody>\n",
       "</table>\n",
       "</div>"
      ],
      "text/plain": [
       "                            uniq_id  \\\n",
       "0  eac7efa5dbd3d667f26eb3d3ab504464   \n",
       "1  b17540ef7e86e461d37f3ae58b7b72ac   \n",
       "2  348f344247b0c1a935b1223072ef9d8a   \n",
       "3  e12b92dbb8eaee78b22965d2a9bbbd9f   \n",
       "4  e33a9adeed5f36840ccc227db4682a36   \n",
       "\n",
       "                                        product_name category1  \\\n",
       "0                              Hornby 2014 Catalogue   Hobbies   \n",
       "1  FunkyBuys® Large Christmas Holiday Express Fes...   Hobbies   \n",
       "2  CLASSIC TOY TRAIN SET TRACK CARRIAGES LIGHT EN...   Hobbies   \n",
       "3     HORNBY Coach R4410A BR Hawksworth Corridor 3rd   Hobbies   \n",
       "4  Hornby 00 Gauge 0-4-0 Gildenlow Salt Co. Steam...   Hobbies   \n",
       "\n",
       "                     category2      category3 category4 category5  \n",
       "0  Model Trains & Railway Sets  Rail Vehicles    Trains      None  \n",
       "1  Model Trains & Railway Sets  Rail Vehicles    Trains      None  \n",
       "2  Model Trains & Railway Sets  Rail Vehicles    Trains      None  \n",
       "3  Model Trains & Railway Sets  Rail Vehicles    Trains      None  \n",
       "4  Model Trains & Railway Sets  Rail Vehicles    Trains      None  "
      ]
     },
     "execution_count": 19,
     "metadata": {},
     "output_type": "execute_result"
    }
   ],
   "source": [
    "category.head()"
   ]
  },
  {
   "cell_type": "code",
   "execution_count": 20,
   "metadata": {},
   "outputs": [
    {
     "data": {
      "text/plain": [
       "'FunkyBuys® Large Christmas Holiday Express Festive Train Set (SI-TY1017) Toy Light / Sounds / Battery Operated & Smoke'"
      ]
     },
     "execution_count": 20,
     "metadata": {},
     "output_type": "execute_result"
    }
   ],
   "source": [
    "category['product_name'][1]"
   ]
  },
  {
   "cell_type": "code",
   "execution_count": null,
   "metadata": {},
   "outputs": [],
   "source": []
  },
  {
   "cell_type": "code",
   "execution_count": null,
   "metadata": {},
   "outputs": [],
   "source": []
  },
  {
   "cell_type": "markdown",
   "metadata": {},
   "source": [
    "### Sub dataset: Also bought"
   ]
  },
  {
   "cell_type": "markdown",
   "metadata": {},
   "source": [
    "Variable    | Type    | Definition\n",
    ":---:| :---:|:---:\n",
    "uniq_id     | Object  | unique identifier     \n",
    "product_name| Object  | name of the product, not necessary unique\n",
    "also_bought_URL   | Object  | References to other items that similar users bought  \n",
    "buy_after_view_URL   | Object  | References to other items that similar users bought that item but did not bought this item\n"
   ]
  },
  {
   "cell_type": "code",
   "execution_count": 21,
   "metadata": {},
   "outputs": [],
   "source": [
    "also_bought = toys_all[['uniq_id', 'product_name', 'customers_who_bought_this_item_also_bought', \n",
    "                      'items_customers_buy_after_viewing_this_item']] "
   ]
  },
  {
   "cell_type": "code",
   "execution_count": 22,
   "metadata": {},
   "outputs": [],
   "source": [
    "also_bought['also_bought_URL'] = also_bought['customers_who_bought_this_item_also_bought'].apply(lambda x: str(x).split('|'))"
   ]
  },
  {
   "cell_type": "code",
   "execution_count": 23,
   "metadata": {},
   "outputs": [
    {
     "data": {
      "text/plain": [
       "['http://www.amazon.co.uk/Christmas-Holiday-Express-Festive-Train-Set-Toy/dp/B009R8S8AA ',\n",
       " ' http://www.amazon.co.uk/Goldlok-Holiday-Express-Operated-Multi-Colour/dp/B009R8PAO2 ',\n",
       " ' http://www.amazon.co.uk/FunkyBuys%C2%AE-Christmas-SI-TY1017-Ornaments-Operated/dp/B01437QMHA ',\n",
       " ' http://www.amazon.co.uk/Holiday-Express-Christmas-Ornament-Decoration ',\n",
       " ' http://www.amazon.co.uk/Seasonal-Vision-Christmas-Tree-Train/dp/B0044ZC1W2 ',\n",
       " ' http://www.amazon.co.uk/Coca-Cola-Santa-Express-Train-Set/dp/B004BYSNU0']"
      ]
     },
     "execution_count": 23,
     "metadata": {},
     "output_type": "execute_result"
    }
   ],
   "source": [
    "also_bought['also_bought_URL'][1]"
   ]
  },
  {
   "cell_type": "code",
   "execution_count": 24,
   "metadata": {},
   "outputs": [],
   "source": [
    "also_bought = also_bought.explode('also_bought_URL')"
   ]
  },
  {
   "cell_type": "code",
   "execution_count": 25,
   "metadata": {},
   "outputs": [],
   "source": [
    "also_bought['also_bought_URL'] = also_bought['also_bought_URL'].apply(lambda x: str(x).strip())"
   ]
  },
  {
   "cell_type": "code",
   "execution_count": 26,
   "metadata": {},
   "outputs": [
    {
     "data": {
      "text/plain": [
       "1    http://www.amazon.co.uk/Christmas-Holiday-Expr...\n",
       "1    http://www.amazon.co.uk/Goldlok-Holiday-Expres...\n",
       "1    http://www.amazon.co.uk/FunkyBuys%C2%AE-Christ...\n",
       "1    http://www.amazon.co.uk/Holiday-Express-Christ...\n",
       "1    http://www.amazon.co.uk/Seasonal-Vision-Christ...\n",
       "1    http://www.amazon.co.uk/Coca-Cola-Santa-Expres...\n",
       "Name: also_bought_URL, dtype: object"
      ]
     },
     "execution_count": 26,
     "metadata": {},
     "output_type": "execute_result"
    }
   ],
   "source": [
    "also_bought['also_bought_URL'][1]"
   ]
  },
  {
   "cell_type": "code",
   "execution_count": null,
   "metadata": {},
   "outputs": [],
   "source": []
  },
  {
   "cell_type": "code",
   "execution_count": 27,
   "metadata": {},
   "outputs": [],
   "source": [
    "also_bought['buy_after_view_URL'] = also_bought['items_customers_buy_after_viewing_this_item'].apply(lambda x: str(x).split('|'))\n",
    "also_bought = also_bought.explode('buy_after_view_URL')\n",
    "also_bought['buy_after_view_URL'] = also_bought['buy_after_view_URL'].apply(lambda x: str(x).strip())"
   ]
  },
  {
   "cell_type": "code",
   "execution_count": 28,
   "metadata": {},
   "outputs": [],
   "source": [
    "also_bought.drop(['customers_who_bought_this_item_also_bought','items_customers_buy_after_viewing_this_item'],axis=1,inplace=True)"
   ]
  },
  {
   "cell_type": "code",
   "execution_count": 29,
   "metadata": {},
   "outputs": [
    {
     "name": "stdout",
     "output_type": "stream",
     "text": [
      "<class 'pandas.core.frame.DataFrame'>\n",
      "Int64Index: 129544 entries, 0 to 9999\n",
      "Data columns (total 4 columns):\n",
      " #   Column              Non-Null Count   Dtype \n",
      "---  ------              --------------   ----- \n",
      " 0   uniq_id             129544 non-null  object\n",
      " 1   product_name        129544 non-null  object\n",
      " 2   also_bought_URL     129544 non-null  object\n",
      " 3   buy_after_view_URL  129544 non-null  object\n",
      "dtypes: object(4)\n",
      "memory usage: 4.9+ MB\n"
     ]
    }
   ],
   "source": [
    "also_bought.info()"
   ]
  },
  {
   "cell_type": "code",
   "execution_count": null,
   "metadata": {},
   "outputs": [],
   "source": []
  },
  {
   "cell_type": "code",
   "execution_count": null,
   "metadata": {},
   "outputs": [],
   "source": []
  },
  {
   "cell_type": "markdown",
   "metadata": {},
   "source": [
    "### Sub Dataset: Q&A"
   ]
  },
  {
   "cell_type": "markdown",
   "metadata": {},
   "source": [
    "Variable    | Type    | Definition\n",
    ":---:| :---:|:---:\n",
    "uniq_id     | Object  | unique identifiers    \n",
    "product_name| Object  | name of the product, not necessary unique\n",
    "question  | Object  | questions toward this product \n",
    "answer   | Object  | answers to the question "
   ]
  },
  {
   "cell_type": "code",
   "execution_count": 30,
   "metadata": {},
   "outputs": [],
   "source": [
    "QA = toys_all[['uniq_id', 'product_name', 'customer_questions_and_answers']] "
   ]
  },
  {
   "cell_type": "code",
   "execution_count": 31,
   "metadata": {},
   "outputs": [],
   "source": [
    "QA['Q_A'] = QA['customer_questions_and_answers'].apply(lambda x: str(x).split('|'))"
   ]
  },
  {
   "cell_type": "code",
   "execution_count": 32,
   "metadata": {},
   "outputs": [],
   "source": [
    "QA = QA.explode('Q_A')"
   ]
  },
  {
   "cell_type": "code",
   "execution_count": 33,
   "metadata": {},
   "outputs": [],
   "source": [
    "QA['Q_A'] = QA['Q_A'].apply(lambda x: str(x).strip())"
   ]
  },
  {
   "cell_type": "code",
   "execution_count": 34,
   "metadata": {},
   "outputs": [],
   "source": [
    "QA[['question','answer']] = QA['Q_A'].str.split(' //',expand=True)"
   ]
  },
  {
   "cell_type": "code",
   "execution_count": 35,
   "metadata": {},
   "outputs": [
    {
     "data": {
      "text/html": [
       "<div>\n",
       "<style scoped>\n",
       "    .dataframe tbody tr th:only-of-type {\n",
       "        vertical-align: middle;\n",
       "    }\n",
       "\n",
       "    .dataframe tbody tr th {\n",
       "        vertical-align: top;\n",
       "    }\n",
       "\n",
       "    .dataframe thead th {\n",
       "        text-align: right;\n",
       "    }\n",
       "</style>\n",
       "<table border=\"1\" class=\"dataframe\">\n",
       "  <thead>\n",
       "    <tr style=\"text-align: right;\">\n",
       "      <th></th>\n",
       "      <th>uniq_id</th>\n",
       "      <th>product_name</th>\n",
       "      <th>customer_questions_and_answers</th>\n",
       "      <th>Q_A</th>\n",
       "      <th>question</th>\n",
       "      <th>answer</th>\n",
       "    </tr>\n",
       "  </thead>\n",
       "  <tbody>\n",
       "    <tr>\n",
       "      <th>0</th>\n",
       "      <td>eac7efa5dbd3d667f26eb3d3ab504464</td>\n",
       "      <td>Hornby 2014 Catalogue</td>\n",
       "      <td>Does this catalogue detail all the previous Ho...</td>\n",
       "      <td>Does this catalogue detail all the previous Ho...</td>\n",
       "      <td>Does this catalogue detail all the previous Ho...</td>\n",
       "      <td>HiThe 2014 catalogue does indeed detail previ...</td>\n",
       "    </tr>\n",
       "    <tr>\n",
       "      <th>1</th>\n",
       "      <td>b17540ef7e86e461d37f3ae58b7b72ac</td>\n",
       "      <td>FunkyBuys® Large Christmas Holiday Express Fes...</td>\n",
       "      <td>can you turn off sounds // hi no you cant turn...</td>\n",
       "      <td>can you turn off sounds // hi no you cant turn...</td>\n",
       "      <td>can you turn off sounds</td>\n",
       "      <td>hi no you cant turn sound off</td>\n",
       "    </tr>\n",
       "    <tr>\n",
       "      <th>2</th>\n",
       "      <td>348f344247b0c1a935b1223072ef9d8a</td>\n",
       "      <td>CLASSIC TOY TRAIN SET TRACK CARRIAGES LIGHT EN...</td>\n",
       "      <td>What is the gauge of the track // Hi Paul.Trut...</td>\n",
       "      <td>What is the gauge of the track // Hi Paul.Trut...</td>\n",
       "      <td>What is the gauge of the track</td>\n",
       "      <td>Hi Paul.Truthfully, I'm not sure. But it's ve...</td>\n",
       "    </tr>\n",
       "    <tr>\n",
       "      <th>2</th>\n",
       "      <td>348f344247b0c1a935b1223072ef9d8a</td>\n",
       "      <td>CLASSIC TOY TRAIN SET TRACK CARRIAGES LIGHT EN...</td>\n",
       "      <td>What is the gauge of the track // Hi Paul.Trut...</td>\n",
       "      <td>what is the layout of the tracks? // Its an ov...</td>\n",
       "      <td>what is the layout of the tracks?</td>\n",
       "      <td>Its an oval shape layout</td>\n",
       "    </tr>\n",
       "    <tr>\n",
       "      <th>3</th>\n",
       "      <td>e12b92dbb8eaee78b22965d2a9bbbd9f</td>\n",
       "      <td>HORNBY Coach R4410A BR Hawksworth Corridor 3rd</td>\n",
       "      <td>NaN</td>\n",
       "      <td>nan</td>\n",
       "      <td>nan</td>\n",
       "      <td>None</td>\n",
       "    </tr>\n",
       "  </tbody>\n",
       "</table>\n",
       "</div>"
      ],
      "text/plain": [
       "                            uniq_id  \\\n",
       "0  eac7efa5dbd3d667f26eb3d3ab504464   \n",
       "1  b17540ef7e86e461d37f3ae58b7b72ac   \n",
       "2  348f344247b0c1a935b1223072ef9d8a   \n",
       "2  348f344247b0c1a935b1223072ef9d8a   \n",
       "3  e12b92dbb8eaee78b22965d2a9bbbd9f   \n",
       "\n",
       "                                        product_name  \\\n",
       "0                              Hornby 2014 Catalogue   \n",
       "1  FunkyBuys® Large Christmas Holiday Express Fes...   \n",
       "2  CLASSIC TOY TRAIN SET TRACK CARRIAGES LIGHT EN...   \n",
       "2  CLASSIC TOY TRAIN SET TRACK CARRIAGES LIGHT EN...   \n",
       "3     HORNBY Coach R4410A BR Hawksworth Corridor 3rd   \n",
       "\n",
       "                      customer_questions_and_answers  \\\n",
       "0  Does this catalogue detail all the previous Ho...   \n",
       "1  can you turn off sounds // hi no you cant turn...   \n",
       "2  What is the gauge of the track // Hi Paul.Trut...   \n",
       "2  What is the gauge of the track // Hi Paul.Trut...   \n",
       "3                                                NaN   \n",
       "\n",
       "                                                 Q_A  \\\n",
       "0  Does this catalogue detail all the previous Ho...   \n",
       "1  can you turn off sounds // hi no you cant turn...   \n",
       "2  What is the gauge of the track // Hi Paul.Trut...   \n",
       "2  what is the layout of the tracks? // Its an ov...   \n",
       "3                                                nan   \n",
       "\n",
       "                                            question  \\\n",
       "0  Does this catalogue detail all the previous Ho...   \n",
       "1                            can you turn off sounds   \n",
       "2                     What is the gauge of the track   \n",
       "2                  what is the layout of the tracks?   \n",
       "3                                                nan   \n",
       "\n",
       "                                              answer  \n",
       "0   HiThe 2014 catalogue does indeed detail previ...  \n",
       "1                      hi no you cant turn sound off  \n",
       "2   Hi Paul.Truthfully, I'm not sure. But it's ve...  \n",
       "2                           Its an oval shape layout  \n",
       "3                                               None  "
      ]
     },
     "execution_count": 35,
     "metadata": {},
     "output_type": "execute_result"
    }
   ],
   "source": [
    "QA.head()"
   ]
  },
  {
   "cell_type": "code",
   "execution_count": 36,
   "metadata": {},
   "outputs": [],
   "source": [
    "QA.drop(['customer_questions_and_answers','Q_A'],axis=1,inplace=True)"
   ]
  },
  {
   "cell_type": "code",
   "execution_count": 37,
   "metadata": {},
   "outputs": [
    {
     "data": {
      "text/html": [
       "<div>\n",
       "<style scoped>\n",
       "    .dataframe tbody tr th:only-of-type {\n",
       "        vertical-align: middle;\n",
       "    }\n",
       "\n",
       "    .dataframe tbody tr th {\n",
       "        vertical-align: top;\n",
       "    }\n",
       "\n",
       "    .dataframe thead th {\n",
       "        text-align: right;\n",
       "    }\n",
       "</style>\n",
       "<table border=\"1\" class=\"dataframe\">\n",
       "  <thead>\n",
       "    <tr style=\"text-align: right;\">\n",
       "      <th></th>\n",
       "      <th>uniq_id</th>\n",
       "      <th>product_name</th>\n",
       "      <th>question</th>\n",
       "      <th>answer</th>\n",
       "    </tr>\n",
       "  </thead>\n",
       "  <tbody>\n",
       "    <tr>\n",
       "      <th>0</th>\n",
       "      <td>eac7efa5dbd3d667f26eb3d3ab504464</td>\n",
       "      <td>Hornby 2014 Catalogue</td>\n",
       "      <td>Does this catalogue detail all the previous Ho...</td>\n",
       "      <td>HiThe 2014 catalogue does indeed detail previ...</td>\n",
       "    </tr>\n",
       "    <tr>\n",
       "      <th>1</th>\n",
       "      <td>b17540ef7e86e461d37f3ae58b7b72ac</td>\n",
       "      <td>FunkyBuys® Large Christmas Holiday Express Fes...</td>\n",
       "      <td>can you turn off sounds</td>\n",
       "      <td>hi no you cant turn sound off</td>\n",
       "    </tr>\n",
       "    <tr>\n",
       "      <th>2</th>\n",
       "      <td>348f344247b0c1a935b1223072ef9d8a</td>\n",
       "      <td>CLASSIC TOY TRAIN SET TRACK CARRIAGES LIGHT EN...</td>\n",
       "      <td>What is the gauge of the track</td>\n",
       "      <td>Hi Paul.Truthfully, I'm not sure. But it's ve...</td>\n",
       "    </tr>\n",
       "    <tr>\n",
       "      <th>2</th>\n",
       "      <td>348f344247b0c1a935b1223072ef9d8a</td>\n",
       "      <td>CLASSIC TOY TRAIN SET TRACK CARRIAGES LIGHT EN...</td>\n",
       "      <td>what is the layout of the tracks?</td>\n",
       "      <td>Its an oval shape layout</td>\n",
       "    </tr>\n",
       "    <tr>\n",
       "      <th>3</th>\n",
       "      <td>e12b92dbb8eaee78b22965d2a9bbbd9f</td>\n",
       "      <td>HORNBY Coach R4410A BR Hawksworth Corridor 3rd</td>\n",
       "      <td>nan</td>\n",
       "      <td>None</td>\n",
       "    </tr>\n",
       "  </tbody>\n",
       "</table>\n",
       "</div>"
      ],
      "text/plain": [
       "                            uniq_id  \\\n",
       "0  eac7efa5dbd3d667f26eb3d3ab504464   \n",
       "1  b17540ef7e86e461d37f3ae58b7b72ac   \n",
       "2  348f344247b0c1a935b1223072ef9d8a   \n",
       "2  348f344247b0c1a935b1223072ef9d8a   \n",
       "3  e12b92dbb8eaee78b22965d2a9bbbd9f   \n",
       "\n",
       "                                        product_name  \\\n",
       "0                              Hornby 2014 Catalogue   \n",
       "1  FunkyBuys® Large Christmas Holiday Express Fes...   \n",
       "2  CLASSIC TOY TRAIN SET TRACK CARRIAGES LIGHT EN...   \n",
       "2  CLASSIC TOY TRAIN SET TRACK CARRIAGES LIGHT EN...   \n",
       "3     HORNBY Coach R4410A BR Hawksworth Corridor 3rd   \n",
       "\n",
       "                                            question  \\\n",
       "0  Does this catalogue detail all the previous Ho...   \n",
       "1                            can you turn off sounds   \n",
       "2                     What is the gauge of the track   \n",
       "2                  what is the layout of the tracks?   \n",
       "3                                                nan   \n",
       "\n",
       "                                              answer  \n",
       "0   HiThe 2014 catalogue does indeed detail previ...  \n",
       "1                      hi no you cant turn sound off  \n",
       "2   Hi Paul.Truthfully, I'm not sure. But it's ve...  \n",
       "2                           Its an oval shape layout  \n",
       "3                                               None  "
      ]
     },
     "execution_count": 37,
     "metadata": {},
     "output_type": "execute_result"
    }
   ],
   "source": [
    "QA.head()"
   ]
  },
  {
   "cell_type": "code",
   "execution_count": null,
   "metadata": {},
   "outputs": [],
   "source": []
  },
  {
   "cell_type": "code",
   "execution_count": null,
   "metadata": {},
   "outputs": [],
   "source": []
  },
  {
   "cell_type": "code",
   "execution_count": null,
   "metadata": {},
   "outputs": [],
   "source": []
  },
  {
   "cell_type": "code",
   "execution_count": null,
   "metadata": {},
   "outputs": [],
   "source": []
  },
  {
   "cell_type": "code",
   "execution_count": null,
   "metadata": {},
   "outputs": [],
   "source": []
  },
  {
   "cell_type": "markdown",
   "metadata": {},
   "source": [
    "### Sub dataset: Customer Reviews"
   ]
  },
  {
   "cell_type": "markdown",
   "metadata": {},
   "source": [
    "Variable    | Type    | Definition\n",
    ":---:| :---:|:---:\n",
    "uniq_id     | Object  | unique identifier     \n",
    "product_name| Object  | name of the product, not necessary unique\n",
    "comment_title   | Object  | titles written by customers when they write reviews \n",
    "indi_score   | Object  | scores correspond to customers reviews\n",
    "date   | Date  | the time when customers write reviews\n",
    "reviewers   | Object  | customers who write reviews\n",
    "content   | Object  | comments written by customers"
   ]
  },
  {
   "cell_type": "code",
   "execution_count": 38,
   "metadata": {},
   "outputs": [],
   "source": [
    "reviews = toys_all[['uniq_id', 'product_name', 'customer_reviews']] "
   ]
  },
  {
   "cell_type": "code",
   "execution_count": 39,
   "metadata": {},
   "outputs": [],
   "source": [
    "reviews['customer_reviews'] = reviews['customer_reviews'].apply(lambda x: str(x).split('|'))"
   ]
  },
  {
   "cell_type": "code",
   "execution_count": 40,
   "metadata": {},
   "outputs": [],
   "source": [
    "reviews = reviews.explode('customer_reviews')"
   ]
  },
  {
   "cell_type": "code",
   "execution_count": 41,
   "metadata": {},
   "outputs": [],
   "source": [
    "reviews[[\"comment_title\", \"indi_score\",\"date\",\"reviewer\",\"content\"]] = reviews['customer_reviews'].str.split(' // ',expand=True)"
   ]
  },
  {
   "cell_type": "code",
   "execution_count": 42,
   "metadata": {},
   "outputs": [],
   "source": [
    "reviews['date'] = pd.to_datetime(reviews['date'])"
   ]
  },
  {
   "cell_type": "code",
   "execution_count": 43,
   "metadata": {},
   "outputs": [],
   "source": [
    "reviews['reviewer'] = reviews['reviewer'].apply(lambda x: str(x).strip())\n",
    "reviews['reviewer'] = reviews['reviewer'].apply(lambda x: re.sub('By\\n    \\n    ','',str(x)))\n",
    "reviews['reviewer'] = reviews['reviewer'].apply(lambda x: str(x).split('\\n  \\n ')[0])"
   ]
  },
  {
   "cell_type": "code",
   "execution_count": 44,
   "metadata": {},
   "outputs": [],
   "source": [
    "reviews.drop(['customer_reviews'],axis=1,inplace=True)"
   ]
  },
  {
   "cell_type": "code",
   "execution_count": 45,
   "metadata": {},
   "outputs": [
    {
     "name": "stdout",
     "output_type": "stream",
     "text": [
      "<class 'pandas.core.frame.DataFrame'>\n",
      "Int64Index: 25452 entries, 0 to 9999\n",
      "Data columns (total 7 columns):\n",
      " #   Column         Non-Null Count  Dtype         \n",
      "---  ------         --------------  -----         \n",
      " 0   uniq_id        25452 non-null  object        \n",
      " 1   product_name   25452 non-null  object        \n",
      " 2   comment_title  25452 non-null  object        \n",
      " 3   indi_score     25431 non-null  object        \n",
      " 4   date           25428 non-null  datetime64[ns]\n",
      " 5   reviewer       25452 non-null  object        \n",
      " 6   content        25425 non-null  object        \n",
      "dtypes: datetime64[ns](1), object(6)\n",
      "memory usage: 1.6+ MB\n"
     ]
    }
   ],
   "source": [
    "reviews.info()"
   ]
  },
  {
   "cell_type": "code",
   "execution_count": null,
   "metadata": {},
   "outputs": [],
   "source": []
  },
  {
   "cell_type": "code",
   "execution_count": null,
   "metadata": {},
   "outputs": [],
   "source": []
  },
  {
   "cell_type": "code",
   "execution_count": null,
   "metadata": {},
   "outputs": [],
   "source": []
  },
  {
   "cell_type": "markdown",
   "metadata": {},
   "source": [
    "### sub dataset: all_sellers"
   ]
  },
  {
   "cell_type": "markdown",
   "metadata": {},
   "source": [
    "Variable    | Type    | Definition\n",
    ":---:| :---:|:---:\n",
    "uniq_id     | Object  | unique identifier     \n",
    "product_name| Object  | name of the product, not necessary unique\n",
    "seller  | Object  | sellers which sell the correspond products \n",
    "seller_price   | Object  | price correspond to the seller "
   ]
  },
  {
   "cell_type": "code",
   "execution_count": 46,
   "metadata": {},
   "outputs": [],
   "source": [
    "all_sellers = toys_all[['uniq_id','product_name', 'sellers']]"
   ]
  },
  {
   "cell_type": "code",
   "execution_count": 47,
   "metadata": {},
   "outputs": [],
   "source": [
    "re_pattern = [(r'\\{\"seller\"=>',''),(r'\\[\\{\"Seller_name_[0-9]0\"=>\"',''),(r'\\[\\{\"Seller_name_[0-9]\"=>\"',''),\n",
    "              (r'\\{\"Seller_name_[0-9]0\"=>\"',''),(r'\\{\"Seller_name_[0-9]\"=>\"',''),\n",
    "              (r'Seller_price_[0-9]0\"=>\"',''),(r'Seller_price_[0-9]\"=>\"',''),\n",
    "             (r'\"\\}\\}',''),(r'\"\\}\\]\\}',''),(r'\"\\}, ','|')] \n",
    "for old, new in re_pattern:\n",
    "    all_sellers['sellers'] = all_sellers['sellers'].apply(lambda x:re.sub(old,new,str(x)))\n"
   ]
  },
  {
   "cell_type": "code",
   "execution_count": 48,
   "metadata": {},
   "outputs": [],
   "source": [
    "all_sellers['sellers'] = all_sellers['sellers'].apply(lambda x: str(x).split('|'))"
   ]
  },
  {
   "cell_type": "code",
   "execution_count": 49,
   "metadata": {},
   "outputs": [],
   "source": [
    "all_sellers = all_sellers.explode('sellers')"
   ]
  },
  {
   "cell_type": "code",
   "execution_count": 50,
   "metadata": {},
   "outputs": [],
   "source": [
    "all_sellers[[\"seller\",\"seller_price\"]] = all_sellers['sellers'].str.split('\", \"',expand=True)"
   ]
  },
  {
   "cell_type": "code",
   "execution_count": 51,
   "metadata": {},
   "outputs": [],
   "source": [
    "all_sellers['seller_price'] = all_sellers['seller_price'].apply(lambda x:re.sub('£','',str(x)))"
   ]
  },
  {
   "cell_type": "code",
   "execution_count": 52,
   "metadata": {},
   "outputs": [],
   "source": [
    "all_sellers.drop(['sellers'],axis=1,inplace=True)"
   ]
  },
  {
   "cell_type": "code",
   "execution_count": 53,
   "metadata": {},
   "outputs": [
    {
     "name": "stdout",
     "output_type": "stream",
     "text": [
      "<class 'pandas.core.frame.DataFrame'>\n",
      "Int64Index: 31894 entries, 0 to 9999\n",
      "Data columns (total 4 columns):\n",
      " #   Column        Non-Null Count  Dtype \n",
      "---  ------        --------------  ----- \n",
      " 0   uniq_id       31894 non-null  object\n",
      " 1   product_name  31894 non-null  object\n",
      " 2   seller        31894 non-null  object\n",
      " 3   seller_price  31894 non-null  object\n",
      "dtypes: object(4)\n",
      "memory usage: 1.2+ MB\n"
     ]
    }
   ],
   "source": [
    "all_sellers.info()"
   ]
  },
  {
   "cell_type": "code",
   "execution_count": 54,
   "metadata": {},
   "outputs": [
    {
     "data": {
      "text/html": [
       "<div>\n",
       "<style scoped>\n",
       "    .dataframe tbody tr th:only-of-type {\n",
       "        vertical-align: middle;\n",
       "    }\n",
       "\n",
       "    .dataframe tbody tr th {\n",
       "        vertical-align: top;\n",
       "    }\n",
       "\n",
       "    .dataframe thead th {\n",
       "        text-align: right;\n",
       "    }\n",
       "</style>\n",
       "<table border=\"1\" class=\"dataframe\">\n",
       "  <thead>\n",
       "    <tr style=\"text-align: right;\">\n",
       "      <th></th>\n",
       "      <th>uniq_id</th>\n",
       "      <th>product_name</th>\n",
       "      <th>seller</th>\n",
       "      <th>seller_price</th>\n",
       "    </tr>\n",
       "  </thead>\n",
       "  <tbody>\n",
       "    <tr>\n",
       "      <th>0</th>\n",
       "      <td>eac7efa5dbd3d667f26eb3d3ab504464</td>\n",
       "      <td>Hornby 2014 Catalogue</td>\n",
       "      <td>Amazon.co.uk</td>\n",
       "      <td>3.42</td>\n",
       "    </tr>\n",
       "    <tr>\n",
       "      <th>0</th>\n",
       "      <td>eac7efa5dbd3d667f26eb3d3ab504464</td>\n",
       "      <td>Hornby 2014 Catalogue</td>\n",
       "      <td>**stop-&amp;-shop-uk**</td>\n",
       "      <td>0.19</td>\n",
       "    </tr>\n",
       "    <tr>\n",
       "      <th>0</th>\n",
       "      <td>eac7efa5dbd3d667f26eb3d3ab504464</td>\n",
       "      <td>Hornby 2014 Catalogue</td>\n",
       "      <td>World Wide Shopping Mall Ltd</td>\n",
       "      <td>9.99</td>\n",
       "    </tr>\n",
       "    <tr>\n",
       "      <th>0</th>\n",
       "      <td>eac7efa5dbd3d667f26eb3d3ab504464</td>\n",
       "      <td>Hornby 2014 Catalogue</td>\n",
       "      <td>MyHobbyStore Retail</td>\n",
       "      <td>8.00</td>\n",
       "    </tr>\n",
       "    <tr>\n",
       "      <th>0</th>\n",
       "      <td>eac7efa5dbd3d667f26eb3d3ab504464</td>\n",
       "      <td>Hornby 2014 Catalogue</td>\n",
       "      <td>francejouet</td>\n",
       "      <td>37.62</td>\n",
       "    </tr>\n",
       "  </tbody>\n",
       "</table>\n",
       "</div>"
      ],
      "text/plain": [
       "                            uniq_id           product_name  \\\n",
       "0  eac7efa5dbd3d667f26eb3d3ab504464  Hornby 2014 Catalogue   \n",
       "0  eac7efa5dbd3d667f26eb3d3ab504464  Hornby 2014 Catalogue   \n",
       "0  eac7efa5dbd3d667f26eb3d3ab504464  Hornby 2014 Catalogue   \n",
       "0  eac7efa5dbd3d667f26eb3d3ab504464  Hornby 2014 Catalogue   \n",
       "0  eac7efa5dbd3d667f26eb3d3ab504464  Hornby 2014 Catalogue   \n",
       "\n",
       "                         seller seller_price  \n",
       "0                  Amazon.co.uk         3.42  \n",
       "0            **stop-&-shop-uk**         0.19  \n",
       "0  World Wide Shopping Mall Ltd         9.99  \n",
       "0           MyHobbyStore Retail         8.00  \n",
       "0                   francejouet        37.62  "
      ]
     },
     "execution_count": 54,
     "metadata": {},
     "output_type": "execute_result"
    }
   ],
   "source": [
    "all_sellers.head()"
   ]
  },
  {
   "cell_type": "code",
   "execution_count": null,
   "metadata": {},
   "outputs": [],
   "source": []
  },
  {
   "cell_type": "code",
   "execution_count": null,
   "metadata": {},
   "outputs": [],
   "source": []
  },
  {
   "cell_type": "code",
   "execution_count": null,
   "metadata": {},
   "outputs": [],
   "source": []
  },
  {
   "cell_type": "code",
   "execution_count": null,
   "metadata": {},
   "outputs": [],
   "source": []
  },
  {
   "cell_type": "code",
   "execution_count": null,
   "metadata": {},
   "outputs": [],
   "source": []
  },
  {
   "cell_type": "markdown",
   "metadata": {},
   "source": [
    "### sub dataset: products"
   ]
  },
  {
   "cell_type": "markdown",
   "metadata": {},
   "source": [
    "Variable    | Type    | Definition\n",
    ":---:| :---:|:---:\n",
    "uniq_id     | Object  | unique identifier     \n",
    "product_name| Object  | name of the product, not necessary unique\n",
    "manufacturer   | Object  | The item manufacturer, as reported on Amazon \n",
    "price   | Object  | price of the product in Amazon\n",
    "quan_available   | Object  | numbers of product available for sale\n",
    "condition   | Object  | condition of the available product\n",
    "number_of_reviews   | Object  | the number of reviews written by customers\n",
    "number_of_answered_questions |  Float   | the number of pairs Q&A\n",
    "average_review_rating        |  Float   | average review scores correspond to the product\n",
    "product_infomation           |  Object   | including technical details of the product\n",
    "product_description          |  Object   | describe the function of the product"
   ]
  },
  {
   "cell_type": "code",
   "execution_count": 55,
   "metadata": {},
   "outputs": [],
   "source": [
    "products = toys_all[['uniq_id', 'product_name', 'manufacturer', 'price', 'quan_available',\n",
    "                   'condition', 'number_of_reviews', 'number_of_answered_questions',\n",
    "                   'average_review_rating', 'product_information', 'product_description']]"
   ]
  },
  {
   "cell_type": "code",
   "execution_count": 56,
   "metadata": {},
   "outputs": [],
   "source": [
    "products['quan_available'] = products['quan_available'].fillna(0)"
   ]
  },
  {
   "cell_type": "code",
   "execution_count": 57,
   "metadata": {},
   "outputs": [],
   "source": [
    "products['number_of_answered_questions'] = products['number_of_answered_questions'].fillna(0)"
   ]
  },
  {
   "cell_type": "code",
   "execution_count": 58,
   "metadata": {},
   "outputs": [
    {
     "data": {
      "text/html": [
       "<div>\n",
       "<style scoped>\n",
       "    .dataframe tbody tr th:only-of-type {\n",
       "        vertical-align: middle;\n",
       "    }\n",
       "\n",
       "    .dataframe tbody tr th {\n",
       "        vertical-align: top;\n",
       "    }\n",
       "\n",
       "    .dataframe thead th {\n",
       "        text-align: right;\n",
       "    }\n",
       "</style>\n",
       "<table border=\"1\" class=\"dataframe\">\n",
       "  <thead>\n",
       "    <tr style=\"text-align: right;\">\n",
       "      <th></th>\n",
       "      <th>uniq_id</th>\n",
       "      <th>product_name</th>\n",
       "      <th>manufacturer</th>\n",
       "      <th>price</th>\n",
       "      <th>quan_available</th>\n",
       "      <th>condition</th>\n",
       "      <th>number_of_reviews</th>\n",
       "      <th>number_of_answered_questions</th>\n",
       "      <th>average_review_rating</th>\n",
       "      <th>product_information</th>\n",
       "      <th>product_description</th>\n",
       "    </tr>\n",
       "  </thead>\n",
       "  <tbody>\n",
       "    <tr>\n",
       "      <th>0</th>\n",
       "      <td>eac7efa5dbd3d667f26eb3d3ab504464</td>\n",
       "      <td>Hornby 2014 Catalogue</td>\n",
       "      <td>Hornby</td>\n",
       "      <td>3.42</td>\n",
       "      <td>5</td>\n",
       "      <td>new</td>\n",
       "      <td>15</td>\n",
       "      <td>1.0</td>\n",
       "      <td>4.9</td>\n",
       "      <td>Technical Details Item Weight640 g Product Dim...</td>\n",
       "      <td>Product Description Hornby 2014 Catalogue Box ...</td>\n",
       "    </tr>\n",
       "    <tr>\n",
       "      <th>1</th>\n",
       "      <td>b17540ef7e86e461d37f3ae58b7b72ac</td>\n",
       "      <td>FunkyBuys® Large Christmas Holiday Express Fes...</td>\n",
       "      <td>FunkyBuys</td>\n",
       "      <td>16.99</td>\n",
       "      <td>0</td>\n",
       "      <td>NaN</td>\n",
       "      <td>2</td>\n",
       "      <td>1.0</td>\n",
       "      <td>4.5</td>\n",
       "      <td>Technical Details Manufacturer recommended age...</td>\n",
       "      <td>Size Name:Large FunkyBuys® Large Christmas Hol...</td>\n",
       "    </tr>\n",
       "    <tr>\n",
       "      <th>2</th>\n",
       "      <td>348f344247b0c1a935b1223072ef9d8a</td>\n",
       "      <td>CLASSIC TOY TRAIN SET TRACK CARRIAGES LIGHT EN...</td>\n",
       "      <td>ccf</td>\n",
       "      <td>9.99</td>\n",
       "      <td>2</td>\n",
       "      <td>new</td>\n",
       "      <td>17</td>\n",
       "      <td>2.0</td>\n",
       "      <td>3.9</td>\n",
       "      <td>Technical Details Manufacturer recommended age...</td>\n",
       "      <td>BIG CLASSIC TOY TRAIN SET TRACK CARRIAGE LIGHT...</td>\n",
       "    </tr>\n",
       "    <tr>\n",
       "      <th>3</th>\n",
       "      <td>e12b92dbb8eaee78b22965d2a9bbbd9f</td>\n",
       "      <td>HORNBY Coach R4410A BR Hawksworth Corridor 3rd</td>\n",
       "      <td>Hornby</td>\n",
       "      <td>39.99</td>\n",
       "      <td>0</td>\n",
       "      <td>NaN</td>\n",
       "      <td>1</td>\n",
       "      <td>2.0</td>\n",
       "      <td>5.0</td>\n",
       "      <td>Technical Details Item Weight259 g Product Dim...</td>\n",
       "      <td>Hornby 00 Gauge BR Hawksworth 3rd Class W 2107...</td>\n",
       "    </tr>\n",
       "    <tr>\n",
       "      <th>4</th>\n",
       "      <td>e33a9adeed5f36840ccc227db4682a36</td>\n",
       "      <td>Hornby 00 Gauge 0-4-0 Gildenlow Salt Co. Steam...</td>\n",
       "      <td>Hornby</td>\n",
       "      <td>32.19</td>\n",
       "      <td>0</td>\n",
       "      <td>NaN</td>\n",
       "      <td>3</td>\n",
       "      <td>2.0</td>\n",
       "      <td>4.7</td>\n",
       "      <td>Technical Details Item Weight159 g Product Dim...</td>\n",
       "      <td>Product Description Hornby RailRoad 0-4-0 Gild...</td>\n",
       "    </tr>\n",
       "    <tr>\n",
       "      <th>...</th>\n",
       "      <td>...</td>\n",
       "      <td>...</td>\n",
       "      <td>...</td>\n",
       "      <td>...</td>\n",
       "      <td>...</td>\n",
       "      <td>...</td>\n",
       "      <td>...</td>\n",
       "      <td>...</td>\n",
       "      <td>...</td>\n",
       "      <td>...</td>\n",
       "      <td>...</td>\n",
       "    </tr>\n",
       "    <tr>\n",
       "      <th>9995</th>\n",
       "      <td>44d6967f083825a5de36ad4865a65bcd</td>\n",
       "      <td>Batman 1966 TV Series Action Figures - The Rid...</td>\n",
       "      <td>Mattel</td>\n",
       "      <td>22.95</td>\n",
       "      <td>5</td>\n",
       "      <td>new</td>\n",
       "      <td>3</td>\n",
       "      <td>3.0</td>\n",
       "      <td>5.0</td>\n",
       "      <td>Technical Details Item Weight136 g Product Dim...</td>\n",
       "      <td>DC 66 Batman Classic TV Series 6 Inch Riddler ...</td>\n",
       "    </tr>\n",
       "    <tr>\n",
       "      <th>9996</th>\n",
       "      <td>08f0747b6fc6687215ffb994c3a6fb32</td>\n",
       "      <td>Star Wars Costume, Kids Stormtrooper Costume S...</td>\n",
       "      <td>Star Wars</td>\n",
       "      <td>39.99</td>\n",
       "      <td>0</td>\n",
       "      <td>NaN</td>\n",
       "      <td>1</td>\n",
       "      <td>3.0</td>\n",
       "      <td>4.0</td>\n",
       "      <td>Technical Details    Additional Information AS...</td>\n",
       "      <td>NaN</td>\n",
       "    </tr>\n",
       "    <tr>\n",
       "      <th>9997</th>\n",
       "      <td>bf6cc073f8f24e6e338190fa16f6ee9d</td>\n",
       "      <td>Defiance Lawkeeper Metal Badge Prop Replica</td>\n",
       "      <td>Olde Scotland Yard Ltd.</td>\n",
       "      <td>43.99</td>\n",
       "      <td>3</td>\n",
       "      <td>new</td>\n",
       "      <td>1</td>\n",
       "      <td>3.0</td>\n",
       "      <td>5.0</td>\n",
       "      <td>Technical Details Item Weight159 g Product Dim...</td>\n",
       "      <td>*Includes 1x Badge with holder and chain *High...</td>\n",
       "    </tr>\n",
       "    <tr>\n",
       "      <th>9998</th>\n",
       "      <td>cd783d0b8b44e631b9788b203eaaefae</td>\n",
       "      <td>Justice League of America Series 3 Green Lante...</td>\n",
       "      <td>DC Comics</td>\n",
       "      <td>49.81</td>\n",
       "      <td>3</td>\n",
       "      <td>new</td>\n",
       "      <td>1</td>\n",
       "      <td>3.0</td>\n",
       "      <td>5.0</td>\n",
       "      <td>Technical Details Item Weight181 g Product Dim...</td>\n",
       "      <td>Designed by Ed BenesIt's here - the third seri...</td>\n",
       "    </tr>\n",
       "    <tr>\n",
       "      <th>9999</th>\n",
       "      <td>94d18e86e504bee1e392df7e5738b18a</td>\n",
       "      <td>Star Wars 1/72 Y-Wing Starfighter</td>\n",
       "      <td>Bandai</td>\n",
       "      <td>21.20</td>\n",
       "      <td>31</td>\n",
       "      <td>new</td>\n",
       "      <td>11</td>\n",
       "      <td>3.0</td>\n",
       "      <td>4.5</td>\n",
       "      <td>Technical Details Item Weight299 g Product Dim...</td>\n",
       "      <td>NaN</td>\n",
       "    </tr>\n",
       "  </tbody>\n",
       "</table>\n",
       "<p>8565 rows × 11 columns</p>\n",
       "</div>"
      ],
      "text/plain": [
       "                               uniq_id  \\\n",
       "0     eac7efa5dbd3d667f26eb3d3ab504464   \n",
       "1     b17540ef7e86e461d37f3ae58b7b72ac   \n",
       "2     348f344247b0c1a935b1223072ef9d8a   \n",
       "3     e12b92dbb8eaee78b22965d2a9bbbd9f   \n",
       "4     e33a9adeed5f36840ccc227db4682a36   \n",
       "...                                ...   \n",
       "9995  44d6967f083825a5de36ad4865a65bcd   \n",
       "9996  08f0747b6fc6687215ffb994c3a6fb32   \n",
       "9997  bf6cc073f8f24e6e338190fa16f6ee9d   \n",
       "9998  cd783d0b8b44e631b9788b203eaaefae   \n",
       "9999  94d18e86e504bee1e392df7e5738b18a   \n",
       "\n",
       "                                           product_name  \\\n",
       "0                                 Hornby 2014 Catalogue   \n",
       "1     FunkyBuys® Large Christmas Holiday Express Fes...   \n",
       "2     CLASSIC TOY TRAIN SET TRACK CARRIAGES LIGHT EN...   \n",
       "3        HORNBY Coach R4410A BR Hawksworth Corridor 3rd   \n",
       "4     Hornby 00 Gauge 0-4-0 Gildenlow Salt Co. Steam...   \n",
       "...                                                 ...   \n",
       "9995  Batman 1966 TV Series Action Figures - The Rid...   \n",
       "9996  Star Wars Costume, Kids Stormtrooper Costume S...   \n",
       "9997        Defiance Lawkeeper Metal Badge Prop Replica   \n",
       "9998  Justice League of America Series 3 Green Lante...   \n",
       "9999                  Star Wars 1/72 Y-Wing Starfighter   \n",
       "\n",
       "                 manufacturer  price quan_available condition  \\\n",
       "0                      Hornby   3.42              5       new   \n",
       "1                   FunkyBuys  16.99              0       NaN   \n",
       "2                         ccf   9.99              2       new   \n",
       "3                      Hornby  39.99              0       NaN   \n",
       "4                      Hornby  32.19              0       NaN   \n",
       "...                       ...    ...            ...       ...   \n",
       "9995                   Mattel  22.95              5       new   \n",
       "9996                Star Wars  39.99              0       NaN   \n",
       "9997  Olde Scotland Yard Ltd.  43.99              3       new   \n",
       "9998                DC Comics  49.81              3       new   \n",
       "9999                   Bandai  21.20             31       new   \n",
       "\n",
       "     number_of_reviews  number_of_answered_questions  average_review_rating  \\\n",
       "0                   15                           1.0                    4.9   \n",
       "1                    2                           1.0                    4.5   \n",
       "2                   17                           2.0                    3.9   \n",
       "3                    1                           2.0                    5.0   \n",
       "4                    3                           2.0                    4.7   \n",
       "...                ...                           ...                    ...   \n",
       "9995                 3                           3.0                    5.0   \n",
       "9996                 1                           3.0                    4.0   \n",
       "9997                 1                           3.0                    5.0   \n",
       "9998                 1                           3.0                    5.0   \n",
       "9999                11                           3.0                    4.5   \n",
       "\n",
       "                                    product_information  \\\n",
       "0     Technical Details Item Weight640 g Product Dim...   \n",
       "1     Technical Details Manufacturer recommended age...   \n",
       "2     Technical Details Manufacturer recommended age...   \n",
       "3     Technical Details Item Weight259 g Product Dim...   \n",
       "4     Technical Details Item Weight159 g Product Dim...   \n",
       "...                                                 ...   \n",
       "9995  Technical Details Item Weight136 g Product Dim...   \n",
       "9996  Technical Details    Additional Information AS...   \n",
       "9997  Technical Details Item Weight159 g Product Dim...   \n",
       "9998  Technical Details Item Weight181 g Product Dim...   \n",
       "9999  Technical Details Item Weight299 g Product Dim...   \n",
       "\n",
       "                                    product_description  \n",
       "0     Product Description Hornby 2014 Catalogue Box ...  \n",
       "1     Size Name:Large FunkyBuys® Large Christmas Hol...  \n",
       "2     BIG CLASSIC TOY TRAIN SET TRACK CARRIAGE LIGHT...  \n",
       "3     Hornby 00 Gauge BR Hawksworth 3rd Class W 2107...  \n",
       "4     Product Description Hornby RailRoad 0-4-0 Gild...  \n",
       "...                                                 ...  \n",
       "9995  DC 66 Batman Classic TV Series 6 Inch Riddler ...  \n",
       "9996                                                NaN  \n",
       "9997  *Includes 1x Badge with holder and chain *High...  \n",
       "9998  Designed by Ed BenesIt's here - the third seri...  \n",
       "9999                                                NaN  \n",
       "\n",
       "[8565 rows x 11 columns]"
      ]
     },
     "execution_count": 58,
     "metadata": {},
     "output_type": "execute_result"
    }
   ],
   "source": [
    "products"
   ]
  },
  {
   "cell_type": "code",
   "execution_count": null,
   "metadata": {},
   "outputs": [],
   "source": []
  },
  {
   "cell_type": "code",
   "execution_count": null,
   "metadata": {},
   "outputs": [],
   "source": []
  },
  {
   "cell_type": "code",
   "execution_count": null,
   "metadata": {},
   "outputs": [],
   "source": []
  },
  {
   "cell_type": "code",
   "execution_count": null,
   "metadata": {},
   "outputs": [],
   "source": []
  },
  {
   "cell_type": "code",
   "execution_count": null,
   "metadata": {},
   "outputs": [],
   "source": []
  },
  {
   "cell_type": "code",
   "execution_count": null,
   "metadata": {},
   "outputs": [],
   "source": []
  },
  {
   "cell_type": "code",
   "execution_count": null,
   "metadata": {},
   "outputs": [],
   "source": []
  },
  {
   "cell_type": "code",
   "execution_count": null,
   "metadata": {},
   "outputs": [],
   "source": []
  },
  {
   "cell_type": "code",
   "execution_count": null,
   "metadata": {},
   "outputs": [],
   "source": []
  },
  {
   "cell_type": "code",
   "execution_count": null,
   "metadata": {},
   "outputs": [],
   "source": []
  }
 ],
 "metadata": {
  "kernelspec": {
   "display_name": "Python 3",
   "language": "python",
   "name": "python3"
  },
  "language_info": {
   "codemirror_mode": {
    "name": "ipython",
    "version": 3
   },
   "file_extension": ".py",
   "mimetype": "text/x-python",
   "name": "python",
   "nbconvert_exporter": "python",
   "pygments_lexer": "ipython3",
   "version": "3.6.10"
  }
 },
 "nbformat": 4,
 "nbformat_minor": 4
}
